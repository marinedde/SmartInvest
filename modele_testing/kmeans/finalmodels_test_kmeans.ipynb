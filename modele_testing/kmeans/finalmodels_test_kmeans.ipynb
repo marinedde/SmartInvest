{
 "cells": [
  {
   "cell_type": "code",
   "execution_count": 1,
   "id": "b4e46f4e",
   "metadata": {},
   "outputs": [],
   "source": [
    "import pandas as pd\n",
    "import numpy as np\n",
    "import matplotlib.pyplot as plt\n",
    "import seaborn as sns\n",
    "from sklearn.model_selection import train_test_split, GridSearchCV, cross_val_score\n",
    "from sklearn.preprocessing import StandardScaler, OneHotEncoder\n",
    "from sklearn.linear_model import LinearRegression, Ridge, Lasso\n",
    "from sklearn.ensemble import RandomForestRegressor\n",
    "from sklearn.metrics import r2_score, mean_absolute_error, mean_squared_error\n",
    "import xgboost as xgb\n",
    "import mlflow\n",
    "import mlflow.sklearn\n",
    "import os\n",
    "import warnings\n",
    "warnings.filterwarnings('ignore')\n",
    "from sklearn.pipeline import Pipeline\n",
    "from sklearn.compose import ColumnTransformer\n",
    "from sklearn.impute import SimpleImputer"
   ]
  },
  {
   "cell_type": "code",
   "execution_count": 2,
   "id": "945faf1a",
   "metadata": {},
   "outputs": [
    {
     "name": "stderr",
     "output_type": "stream",
     "text": [
      "2025/07/30 17:32:07 INFO mlflow.tracking.fluent: Experiment with name 'Smart-Invest-Final-Models-TestKmeans' does not exist. Creating a new experiment.\n"
     ]
    },
    {
     "name": "stdout",
     "output_type": "stream",
     "text": [
      "Experiment ID: 8\n",
      "Experiment name: Smart-Invest-Final-Models-TestKmeans\n"
     ]
    }
   ],
   "source": [
    "# MLFlow setup\n",
    "os.environ[\"APP_URI\"] = \"https://amaulf-mlflow-server-smartinvest.hf.space\"\n",
    "EXPERIMENT_NAME = \"Smart-Invest-Final-Models-TestKmeans\"\n",
    "\n",
    "mlflow.set_tracking_uri(os.environ[\"APP_URI\"])\n",
    "mlflow.set_experiment(EXPERIMENT_NAME)\n",
    "\n",
    "experiment = mlflow.get_experiment_by_name(EXPERIMENT_NAME)\n",
    "print(f\"Experiment ID: {experiment.experiment_id}\")\n",
    "print(f\"Experiment name: {experiment.name}\")"
   ]
  },
  {
   "cell_type": "markdown",
   "id": "34d024d1",
   "metadata": {},
   "source": [
    "# X & y prep "
   ]
  },
  {
   "cell_type": "code",
   "execution_count": 16,
   "id": "135a7ed9",
   "metadata": {},
   "outputs": [
    {
     "name": "stdout",
     "output_type": "stream",
     "text": [
      "Dataset shape: (137917, 24)\n",
      "Target variable: prix_m2\n"
     ]
    }
   ],
   "source": [
    "# Load data\n",
    "df = pd.read_csv('/Users/amaurylefranc/Desktop/Jehda/vscode/finalprojectml/final_data.csv')\n",
    "print(f\"Dataset shape: {df.shape}\")\n",
    "print(f\"Target variable: prix_m2\")"
   ]
  },
  {
   "cell_type": "code",
   "execution_count": 21,
   "id": "d838a1b2",
   "metadata": {},
   "outputs": [
    {
     "name": "stdout",
     "output_type": "stream",
     "text": [
      "\n",
      "Dataset info:\n",
      "<class 'pandas.core.frame.DataFrame'>\n",
      "RangeIndex: 137917 entries, 0 to 137916\n",
      "Data columns (total 20 columns):\n",
      " #   Column                     Non-Null Count   Dtype  \n",
      "---  ------                     --------------   -----  \n",
      " 0   surface_reelle_bati        137917 non-null  float64\n",
      " 1   prix_m2                    137917 non-null  float64\n",
      " 2   nombre_pieces_principales  137917 non-null  float64\n",
      " 3   longitude                  137917 non-null  float64\n",
      " 4   latitude                   137917 non-null  float64\n",
      " 5   nombre_lots                137917 non-null  int64  \n",
      " 6   annee                      137917 non-null  int64  \n",
      " 7   distance_datashop_km       137917 non-null  float64\n",
      " 8   distance_espace_vert_km    137917 non-null  float64\n",
      " 9   distance_college_km        137917 non-null  float64\n",
      " 10  distance_universite_km     137917 non-null  float64\n",
      " 11  distance_ecole_km          137917 non-null  float64\n",
      " 12  distance_metro_km          137917 non-null  float64\n",
      " 13  distance_TER_km            137917 non-null  float64\n",
      " 14  distance_POI_min_km        137917 non-null  float64\n",
      " 15  proche_POI_1km             137917 non-null  int64  \n",
      " 16  nb_POIs_inf_1km            137917 non-null  int64  \n",
      " 17  distance_batiment_m        137917 non-null  float64\n",
      " 18  annee_construction_dpe     137917 non-null  float64\n",
      " 19  zone                       137917 non-null  int64  \n",
      "dtypes: float64(15), int64(5)\n",
      "memory usage: 21.0 MB\n",
      "None\n",
      "\n",
      "Missing values:\n",
      "0\n",
      "\n",
      "Target variable stats:\n",
      "count    137917.000000\n",
      "mean      10760.384400\n",
      "std        2730.546196\n",
      "min        4000.000000\n",
      "25%        9000.000000\n",
      "50%       10523.800000\n",
      "75%       12220.000000\n",
      "max       20000.000000\n",
      "Name: prix_m2, dtype: float64\n"
     ]
    }
   ],
   "source": [
    "# Basic data checks\n",
    "print(\"\\nDataset info:\")\n",
    "print(df.info())\n",
    "print(f\"\\nMissing values:\\n{df.isnull().sum().sum()}\")\n",
    "print(f\"\\nTarget variable stats:\")\n",
    "print(df['prix_m2'].describe())"
   ]
  },
  {
   "cell_type": "code",
   "execution_count": null,
   "id": "13dcfb2a",
   "metadata": {},
   "outputs": [],
   "source": [
    "# Remove non-predictive columns\n",
    "columns_to_drop = ['cle_interop_adr_proche','arrondissement','id','Unnamed: 0']\n",
    "df = df.drop(columns_to_drop, axis=1)"
   ]
  },
  {
   "cell_type": "code",
   "execution_count": 32,
   "id": "0c34209e",
   "metadata": {},
   "outputs": [
    {
     "name": "stdout",
     "output_type": "stream",
     "text": [
      "\n",
      "Final feature shape: (137917, 19)\n",
      "Features: ['surface_reelle_bati', 'nombre_pieces_principales', 'longitude', 'latitude', 'nombre_lots', 'annee', 'distance_datashop_km', 'distance_espace_vert_km', 'distance_college_km', 'distance_universite_km', 'distance_ecole_km', 'distance_metro_km', 'distance_TER_km', 'distance_POI_min_km', 'proche_POI_1km', 'nb_POIs_inf_1km', 'distance_batiment_m', 'annee_construction_dpe', 'zone']\n"
     ]
    }
   ],
   "source": [
    "# Prepare features and target\n",
    "target = 'prix_m2'\n",
    "X = df.drop(target, axis=1)\n",
    "y = df[target]\n",
    "\n",
    "print(f\"\\nFinal feature shape: {X.shape}\")\n",
    "print(f\"Features: {list(X.columns)}\")"
   ]
  },
  {
   "cell_type": "code",
   "execution_count": 33,
   "id": "6a628aa8",
   "metadata": {},
   "outputs": [
    {
     "name": "stdout",
     "output_type": "stream",
     "text": [
      "\n",
      "Train set: (110333, 19)\n",
      "Test set: (27584, 19)\n"
     ]
    }
   ],
   "source": [
    "# Train/test split\n",
    "X_train, X_test, y_train, y_test = train_test_split(\n",
    "    X, y, test_size=0.2, random_state=42\n",
    ")\n",
    "\n",
    "print(f\"\\nTrain set: {X_train.shape}\")\n",
    "print(f\"Test set: {X_test.shape}\")"
   ]
  },
  {
   "cell_type": "code",
   "execution_count": 34,
   "id": "7e4a624b",
   "metadata": {},
   "outputs": [],
   "source": [
    "# Separate numeric and categorical features\n",
    "\n",
    "numeric_features = [\n",
    "    'surface_reelle_bati', 'nombre_pieces_principales', \n",
    "    'longitude', 'latitude', 'nombre_lots', 'distance_datashop_km', \n",
    "    'distance_espace_vert_km', 'distance_college_km', 'distance_universite_km', \n",
    "    'distance_ecole_km', 'distance_metro_km', 'distance_TER_km', \n",
    "    'distance_POI_min_km', 'nb_POIs_inf_1km', 'distance_batiment_m', \n",
    "    'annee_construction_dpe'\n",
    "]\n",
    "\n",
    "categorical_features = [\n",
    "    'proche_POI_1km','annee','zone'\n",
    "]"
   ]
  },
  {
   "cell_type": "code",
   "execution_count": 35,
   "id": "c813f1cb",
   "metadata": {},
   "outputs": [
    {
     "name": "stdout",
     "output_type": "stream",
     "text": [
      "\n",
      "Numeric features (16): ['surface_reelle_bati', 'nombre_pieces_principales', 'longitude', 'latitude', 'nombre_lots', 'distance_datashop_km', 'distance_espace_vert_km', 'distance_college_km', 'distance_universite_km', 'distance_ecole_km', 'distance_metro_km', 'distance_TER_km', 'distance_POI_min_km', 'nb_POIs_inf_1km', 'distance_batiment_m', 'annee_construction_dpe']\n",
      "Categorical features (3): ['proche_POI_1km', 'annee', 'zone']\n"
     ]
    }
   ],
   "source": [
    "print(f\"\\nNumeric features ({len(numeric_features)}): {numeric_features}\")\n",
    "print(f\"Categorical features ({len(categorical_features)}): {categorical_features}\")"
   ]
  },
  {
   "cell_type": "markdown",
   "id": "12279cdf",
   "metadata": {},
   "source": [
    "# Baseline models"
   ]
  },
  {
   "cell_type": "code",
   "execution_count": 36,
   "id": "0b363ce5",
   "metadata": {},
   "outputs": [
    {
     "name": "stdout",
     "output_type": "stream",
     "text": [
      "Performing preprocessing on train set...\n",
      "Train processed shape: (110333, 27)\n",
      "Performing preprocessing on test set...\n",
      "Test processed shape: (27584, 27)\n"
     ]
    }
   ],
   "source": [
    "# Create pipeline for numeric features\n",
    "numeric_transformer = Pipeline(steps=[\n",
    "    ('imputer', SimpleImputer(strategy='mean')),\n",
    "    ('scaler', StandardScaler())\n",
    "])\n",
    "\n",
    "# Create pipeline for categorical features  \n",
    "categorical_transformer = Pipeline(steps=[\n",
    "    ('encoder', OneHotEncoder(drop='first'))\n",
    "])\n",
    "\n",
    "# Use ColumnTransformer to make a preprocessor object\n",
    "preprocessor = ColumnTransformer(\n",
    "    transformers=[\n",
    "        ('num', numeric_transformer, numeric_features),\n",
    "        ('cat', categorical_transformer, categorical_features)\n",
    "    ])\n",
    "\n",
    "# Preprocessing on train set\n",
    "print(\"Performing preprocessing on train set...\")\n",
    "X_train_processed = preprocessor.fit_transform(X_train)\n",
    "print(f\"Train processed shape: {X_train_processed.shape}\")\n",
    "\n",
    "# Preprocessing on test set\n",
    "print(\"Performing preprocessing on test set...\")\n",
    "X_test_processed = preprocessor.transform(X_test)\n",
    "print(f\"Test processed shape: {X_test_processed.shape}\")"
   ]
  },
  {
   "cell_type": "code",
   "execution_count": 37,
   "id": "2f0057c2",
   "metadata": {},
   "outputs": [
    {
     "name": "stderr",
     "output_type": "stream",
     "text": [
      "2025/07/30 17:41:33 WARNING mlflow.sklearn: Failed to log training dataset information to MLflow Tracking. Reason: 'Series' object has no attribute 'flatten'\n",
      "2025/07/30 17:41:37 WARNING mlflow.utils.autologging_utils: Encountered unexpected error during sklearn autologging: Unable to locate credentials\n"
     ]
    },
    {
     "name": "stdout",
     "output_type": "stream",
     "text": [
      "Linear Regression Results:\n",
      "Train R2: 0.201\n",
      "Test R2: 0.195\n",
      "Train MAE: 1,805€/m²\n",
      "Test MAE: 1,817€/m²\n",
      "Train RMSE: 2,439€/m²\n",
      "Test RMSE: 2,458€/m²\n"
     ]
    },
    {
     "name": "stderr",
     "output_type": "stream",
     "text": [
      "2025/07/30 17:41:44 INFO mlflow.tracking._tracking_service.client: 🏃 View run Linear_Regression_Baseline at: https://amaulf-mlflow-server-smartinvest.hf.space/#/experiments/8/runs/0bde56e49a80472db802d483c1a8e111.\n",
      "2025/07/30 17:41:44 INFO mlflow.tracking._tracking_service.client: 🧪 View experiment at: https://amaulf-mlflow-server-smartinvest.hf.space/#/experiments/8.\n"
     ]
    }
   ],
   "source": [
    "# Model 1: Linear Regression (Baseline)\n",
    "mlflow.sklearn.autolog()\n",
    "\n",
    "with mlflow.start_run(run_name=\"Linear_Regression_Baseline\"):\n",
    "    lr = LinearRegression()\n",
    "    lr.fit(X_train_processed, y_train)\n",
    "    \n",
    "    y_train_pred = lr.predict(X_train_processed)\n",
    "    y_test_pred = lr.predict(X_test_processed)\n",
    "    \n",
    "    train_r2 = r2_score(y_train, y_train_pred)\n",
    "    test_r2 = r2_score(y_test, y_test_pred)\n",
    "    train_mae = mean_absolute_error(y_train, y_train_pred)\n",
    "    test_mae = mean_absolute_error(y_test, y_test_pred)\n",
    "    train_rmse = np.sqrt(mean_squared_error(y_train, y_train_pred))\n",
    "    test_rmse = np.sqrt(mean_squared_error(y_test, y_test_pred))\n",
    "    \n",
    "    mlflow.log_metric(\"train_r2\", train_r2)\n",
    "    mlflow.log_metric(\"test_r2\", test_r2)\n",
    "    mlflow.log_metric(\"train_mae\", train_mae)\n",
    "    mlflow.log_metric(\"test_mae\", test_mae)\n",
    "    mlflow.log_metric(\"train_rmse\", train_rmse)\n",
    "    mlflow.log_metric(\"test_rmse\", test_rmse)\n",
    "    \n",
    "    print(\"Linear Regression Results:\")\n",
    "    print(f\"Train R2: {train_r2:.3f}\")\n",
    "    print(f\"Test R2: {test_r2:.3f}\")\n",
    "    print(f\"Train MAE: {train_mae:,.0f}€/m²\")\n",
    "    print(f\"Test MAE: {test_mae:,.0f}€/m²\")\n",
    "    print(f\"Train RMSE: {train_rmse:,.0f}€/m²\")\n",
    "    print(f\"Test RMSE: {test_rmse:,.0f}€/m²\")"
   ]
  },
  {
   "cell_type": "code",
   "execution_count": 38,
   "id": "c8a3b622",
   "metadata": {},
   "outputs": [
    {
     "name": "stderr",
     "output_type": "stream",
     "text": [
      "2025/07/30 17:41:56 WARNING mlflow.sklearn: Failed to log training dataset information to MLflow Tracking. Reason: 'Series' object has no attribute 'flatten'\n",
      "2025/07/30 17:42:59 WARNING mlflow.utils.autologging_utils: Encountered unexpected error during sklearn autologging: Unable to locate credentials\n"
     ]
    },
    {
     "name": "stdout",
     "output_type": "stream",
     "text": [
      "\n",
      "Random Forest Basic Results:\n",
      "Train R2: 0.367\n",
      "Test R2: 0.313\n",
      "Train MAE: 1,576€/m²\n",
      "Test MAE: 1,638€/m²\n",
      "Train RMSE: 2,171€/m²\n",
      "Test RMSE: 2,272€/m²\n"
     ]
    },
    {
     "name": "stderr",
     "output_type": "stream",
     "text": [
      "2025/07/30 17:43:06 INFO mlflow.tracking._tracking_service.client: 🏃 View run RandomForest_Basic at: https://amaulf-mlflow-server-smartinvest.hf.space/#/experiments/8/runs/54b44f7c9b3947139aee2442ec7f35bc.\n",
      "2025/07/30 17:43:06 INFO mlflow.tracking._tracking_service.client: 🧪 View experiment at: https://amaulf-mlflow-server-smartinvest.hf.space/#/experiments/8.\n"
     ]
    }
   ],
   "source": [
    "# Model 2: Random Forest Basic\n",
    "with mlflow.start_run(run_name=\"RandomForest_Basic\"):\n",
    "    rf_basic = RandomForestRegressor(\n",
    "        n_estimators=100,\n",
    "        max_depth=10,\n",
    "        random_state=42\n",
    "    )\n",
    "    rf_basic.fit(X_train_processed, y_train)\n",
    "    \n",
    "    y_train_pred = rf_basic.predict(X_train_processed)\n",
    "    y_test_pred = rf_basic.predict(X_test_processed)\n",
    "    \n",
    "    train_r2 = r2_score(y_train, y_train_pred)\n",
    "    test_r2 = r2_score(y_test, y_test_pred)\n",
    "    train_mae = mean_absolute_error(y_train, y_train_pred)\n",
    "    test_mae = mean_absolute_error(y_test, y_test_pred)\n",
    "    train_rmse = np.sqrt(mean_squared_error(y_train, y_train_pred))\n",
    "    test_rmse = np.sqrt(mean_squared_error(y_test, y_test_pred))\n",
    "    \n",
    "    mlflow.log_metric(\"train_r2\", train_r2)\n",
    "    mlflow.log_metric(\"test_r2\", test_r2)\n",
    "    mlflow.log_metric(\"train_mae\", train_mae)\n",
    "    mlflow.log_metric(\"test_mae\", test_mae)\n",
    "    mlflow.log_metric(\"train_rmse\", train_rmse)\n",
    "    mlflow.log_metric(\"test_rmse\", test_rmse)\n",
    "    \n",
    "    print(\"\\nRandom Forest Basic Results:\")\n",
    "    print(f\"Train R2: {train_r2:.3f}\")\n",
    "    print(f\"Test R2: {test_r2:.3f}\")\n",
    "    print(f\"Train MAE: {train_mae:,.0f}€/m²\")\n",
    "    print(f\"Test MAE: {test_mae:,.0f}€/m²\")\n",
    "    print(f\"Train RMSE: {train_rmse:,.0f}€/m²\")\n",
    "    print(f\"Test RMSE: {test_rmse:,.0f}€/m²\")"
   ]
  },
  {
   "cell_type": "markdown",
   "id": "b6f310d4",
   "metadata": {},
   "source": [
    "# XGBoost"
   ]
  },
  {
   "cell_type": "code",
   "execution_count": 39,
   "id": "3b035983",
   "metadata": {},
   "outputs": [
    {
     "name": "stdout",
     "output_type": "stream",
     "text": [
      "XGBoost Basic Results:\n",
      "Train R2: 0.362\n",
      "Test R2: 0.325\n",
      "Train MAE: 1,574€/m²\n",
      "Test MAE: 1,620€/m²\n",
      "Train RMSE: 2,180€/m²\n",
      "Test RMSE: 2,252€/m²\n"
     ]
    },
    {
     "name": "stderr",
     "output_type": "stream",
     "text": [
      "2025/07/30 17:43:41 INFO mlflow.tracking._tracking_service.client: 🏃 View run XGBoost_Basic at: https://amaulf-mlflow-server-smartinvest.hf.space/#/experiments/8/runs/89d0ccff6d7f45f19ec21f0af2799012.\n",
      "2025/07/30 17:43:41 INFO mlflow.tracking._tracking_service.client: 🧪 View experiment at: https://amaulf-mlflow-server-smartinvest.hf.space/#/experiments/8.\n"
     ]
    }
   ],
   "source": [
    "# Model 3: XGBoost\n",
    "with mlflow.start_run(run_name=\"XGBoost_Basic\"):\n",
    "    xgb_model = xgb.XGBRegressor(\n",
    "        n_estimators=100,\n",
    "        max_depth=6,\n",
    "        learning_rate=0.1,\n",
    "        random_state=42\n",
    "    )\n",
    "    xgb_model.fit(X_train_processed, y_train)\n",
    "    \n",
    "    y_train_pred = xgb_model.predict(X_train_processed)\n",
    "    y_test_pred = xgb_model.predict(X_test_processed)\n",
    "    \n",
    "    train_r2 = r2_score(y_train, y_train_pred)\n",
    "    test_r2 = r2_score(y_test, y_test_pred)\n",
    "    train_mae = mean_absolute_error(y_train, y_train_pred)\n",
    "    test_mae = mean_absolute_error(y_test, y_test_pred)\n",
    "    train_rmse = np.sqrt(mean_squared_error(y_train, y_train_pred))\n",
    "    test_rmse = np.sqrt(mean_squared_error(y_test, y_test_pred))\n",
    "    \n",
    "    mlflow.log_metric(\"train_r2\", train_r2)\n",
    "    mlflow.log_metric(\"test_r2\", test_r2)\n",
    "    mlflow.log_metric(\"train_mae\", train_mae)\n",
    "    mlflow.log_metric(\"test_mae\", test_mae)\n",
    "    mlflow.log_metric(\"train_rmse\", train_rmse)\n",
    "    mlflow.log_metric(\"test_rmse\", test_rmse)\n",
    "    \n",
    "    print(\"XGBoost Basic Results:\")\n",
    "    print(f\"Train R2: {train_r2:.3f}\")\n",
    "    print(f\"Test R2: {test_r2:.3f}\")\n",
    "    print(f\"Train MAE: {train_mae:,.0f}€/m²\")\n",
    "    print(f\"Test MAE: {test_mae:,.0f}€/m²\")\n",
    "    print(f\"Train RMSE: {train_rmse:,.0f}€/m²\")\n",
    "    print(f\"Test RMSE: {test_rmse:,.0f}€/m²\")"
   ]
  },
  {
   "cell_type": "code",
   "execution_count": 40,
   "id": "15c86c69",
   "metadata": {},
   "outputs": [
    {
     "name": "stderr",
     "output_type": "stream",
     "text": [
      "2025/07/30 17:44:00 WARNING mlflow.sklearn: Failed to log training dataset information to MLflow Tracking. Reason: 'Series' object has no attribute 'flatten'\n",
      "2025/07/30 17:44:01 WARNING mlflow.utils.autologging_utils: Encountered unexpected error during sklearn autologging: Unable to locate credentials\n"
     ]
    },
    {
     "name": "stdout",
     "output_type": "stream",
     "text": [
      "Ridge Regression Results:\n",
      "Train R2: 0.201\n",
      "Test R2: 0.195\n",
      "Train MAE: 1,805€/m²\n",
      "Test MAE: 1,817€/m²\n",
      "Train RMSE: 2,439€/m²\n",
      "Test RMSE: 2,458€/m²\n"
     ]
    },
    {
     "name": "stderr",
     "output_type": "stream",
     "text": [
      "2025/07/30 17:44:08 INFO mlflow.tracking._tracking_service.client: 🏃 View run Ridge_Regression at: https://amaulf-mlflow-server-smartinvest.hf.space/#/experiments/8/runs/1185e00326004e5a999a71f303be677f.\n",
      "2025/07/30 17:44:08 INFO mlflow.tracking._tracking_service.client: 🧪 View experiment at: https://amaulf-mlflow-server-smartinvest.hf.space/#/experiments/8.\n"
     ]
    }
   ],
   "source": [
    "# Model 4: Ridge Regression\n",
    "with mlflow.start_run(run_name=\"Ridge_Regression\"):\n",
    "    ridge = Ridge(alpha=1.0, random_state=42)\n",
    "    ridge.fit(X_train_processed, y_train)\n",
    "    \n",
    "    y_train_pred = ridge.predict(X_train_processed)\n",
    "    y_test_pred = ridge.predict(X_test_processed)\n",
    "    \n",
    "    train_r2 = r2_score(y_train, y_train_pred)\n",
    "    test_r2 = r2_score(y_test, y_test_pred)\n",
    "    train_mae = mean_absolute_error(y_train, y_train_pred)\n",
    "    test_mae = mean_absolute_error(y_test, y_test_pred)\n",
    "    train_rmse = np.sqrt(mean_squared_error(y_train, y_train_pred))\n",
    "    test_rmse = np.sqrt(mean_squared_error(y_test, y_test_pred))\n",
    "    \n",
    "    mlflow.log_metric(\"train_r2\", train_r2)\n",
    "    mlflow.log_metric(\"test_r2\", test_r2)\n",
    "    mlflow.log_metric(\"train_mae\", train_mae)\n",
    "    mlflow.log_metric(\"test_mae\", test_mae)\n",
    "    mlflow.log_metric(\"train_rmse\", train_rmse)\n",
    "    mlflow.log_metric(\"test_rmse\", test_rmse)\n",
    "    \n",
    "    print(\"Ridge Regression Results:\")\n",
    "    print(f\"Train R2: {train_r2:.3f}\")\n",
    "    print(f\"Test R2: {test_r2:.3f}\")\n",
    "    print(f\"Train MAE: {train_mae:,.0f}€/m²\")\n",
    "    print(f\"Test MAE: {test_mae:,.0f}€/m²\")\n",
    "    print(f\"Train RMSE: {train_rmse:,.0f}€/m²\")\n",
    "    print(f\"Test RMSE: {test_rmse:,.0f}€/m²\")"
   ]
  },
  {
   "cell_type": "code",
   "execution_count": 41,
   "id": "76f9c77d",
   "metadata": {},
   "outputs": [
    {
     "name": "stdout",
     "output_type": "stream",
     "text": [
      "Starting GridSearch on XGBoost...\n"
     ]
    },
    {
     "name": "stderr",
     "output_type": "stream",
     "text": [
      "2025/07/30 17:44:13 WARNING mlflow.sklearn: Failed to log training dataset information to MLflow Tracking. Reason: 'Series' object has no attribute 'flatten'\n"
     ]
    },
    {
     "name": "stdout",
     "output_type": "stream",
     "text": [
      "Fitting 5 folds for each of 81 candidates, totalling 405 fits\n"
     ]
    },
    {
     "name": "stderr",
     "output_type": "stream",
     "text": [
      "2025/07/30 17:49:36 WARNING mlflow.utils.autologging_utils: Encountered unexpected error during sklearn autologging: Unable to locate credentials\n"
     ]
    },
    {
     "name": "stdout",
     "output_type": "stream",
     "text": [
      "XGBoost GridSearch Results:\n",
      "Best parameters: {'learning_rate': 0.05, 'max_depth': 8, 'min_child_weight': 1, 'n_estimators': 300}\n",
      "Best CV score: 0.335\n",
      "Train R2: 0.472\n",
      "Test R2: 0.341\n",
      "Train MAE: 1,431€/m²\n",
      "Test MAE: 1,597€/m²\n",
      "Train RMSE: 1,982€/m²\n",
      "Test RMSE: 2,225€/m²\n"
     ]
    },
    {
     "name": "stderr",
     "output_type": "stream",
     "text": [
      "2025/07/30 17:49:45 INFO mlflow.tracking._tracking_service.client: 🏃 View run XGBoost_GridSearch at: https://amaulf-mlflow-server-smartinvest.hf.space/#/experiments/8/runs/d52f919209a340bdb4489b3397118b32.\n",
      "2025/07/30 17:49:45 INFO mlflow.tracking._tracking_service.client: 🧪 View experiment at: https://amaulf-mlflow-server-smartinvest.hf.space/#/experiments/8.\n"
     ]
    }
   ],
   "source": [
    "# Step 5: Hyperparameter Tuning on XGBoost\n",
    "print(\"Starting GridSearch on XGBoost...\")\n",
    "\n",
    "with mlflow.start_run(run_name=\"XGBoost_GridSearch\"):\n",
    "    xgb_model = xgb.XGBRegressor(random_state=42)\n",
    "    \n",
    "    # Grid of hyperparameters to test\n",
    "    param_grid = {\n",
    "        'n_estimators': [100, 200, 300],\n",
    "        'max_depth': [4, 6, 8],\n",
    "        'learning_rate': [0.05, 0.1, 0.15],\n",
    "        'min_child_weight': [1, 3, 5]\n",
    "    }\n",
    "    \n",
    "    # GridSearchCV with cross-validation\n",
    "    grid_search = GridSearchCV(\n",
    "        xgb_model, \n",
    "        param_grid, \n",
    "        cv=5, \n",
    "        scoring='r2',\n",
    "        n_jobs=-1,\n",
    "        verbose=1\n",
    "    )\n",
    "    \n",
    "    grid_search.fit(X_train_processed, y_train)\n",
    "    \n",
    "    # Best model predictions\n",
    "    best_model = grid_search.best_estimator_\n",
    "    y_train_pred = best_model.predict(X_train_processed)\n",
    "    y_test_pred = best_model.predict(X_test_processed)\n",
    "    \n",
    "    # Calculate metrics\n",
    "    train_r2 = r2_score(y_train, y_train_pred)\n",
    "    test_r2 = r2_score(y_test, y_test_pred)\n",
    "    train_mae = mean_absolute_error(y_train, y_train_pred)\n",
    "    test_mae = mean_absolute_error(y_test, y_test_pred)\n",
    "    train_rmse = np.sqrt(mean_squared_error(y_train, y_train_pred))\n",
    "    test_rmse = np.sqrt(mean_squared_error(y_test, y_test_pred))\n",
    "    \n",
    "    # Log results\n",
    "    mlflow.log_params(grid_search.best_params_)\n",
    "    mlflow.log_metric(\"train_r2\", train_r2)\n",
    "    mlflow.log_metric(\"test_r2\", test_r2)\n",
    "    mlflow.log_metric(\"train_mae\", train_mae)\n",
    "    mlflow.log_metric(\"test_mae\", test_mae)\n",
    "    mlflow.log_metric(\"train_rmse\", train_rmse)\n",
    "    mlflow.log_metric(\"test_rmse\", test_rmse)\n",
    "    mlflow.log_metric(\"cv_best_score\", grid_search.best_score_)\n",
    "    \n",
    "    print(\"XGBoost GridSearch Results:\")\n",
    "    print(f\"Best parameters: {grid_search.best_params_}\")\n",
    "    print(f\"Best CV score: {grid_search.best_score_:.3f}\")\n",
    "    print(f\"Train R2: {train_r2:.3f}\")\n",
    "    print(f\"Test R2: {test_r2:.3f}\")\n",
    "    print(f\"Train MAE: {train_mae:,.0f}€/m²\")\n",
    "    print(f\"Test MAE: {test_mae:,.0f}€/m²\")\n",
    "    print(f\"Train RMSE: {train_rmse:,.0f}€/m²\")\n",
    "    print(f\"Test RMSE: {test_rmse:,.0f}€/m²\")"
   ]
  },
  {
   "cell_type": "markdown",
   "id": "49eddc46",
   "metadata": {},
   "source": [
    "# Final model evaluation"
   ]
  },
  {
   "cell_type": "code",
   "execution_count": 42,
   "id": "6403bdb5",
   "metadata": {},
   "outputs": [
    {
     "name": "stdout",
     "output_type": "stream",
     "text": [
      "Final Model Analysis...\n",
      "Number of features after preprocessing: 27\n",
      "Number of feature importances: 27\n",
      "Total feature names created: 27\n",
      "Top 10 Most Important Features:\n",
      "            feature  importance\n",
      "11  distance_TER_km    0.154016\n",
      "3          latitude    0.131318\n",
      "26           zone_6    0.083003\n",
      "20       annee_2024    0.080271\n",
      "2         longitude    0.069394\n",
      "23           zone_3    0.069197\n",
      "21           zone_1    0.054105\n",
      "22           zone_2    0.036481\n",
      "19       annee_2023    0.035283\n",
      "4       nombre_lots    0.024814\n"
     ]
    }
   ],
   "source": [
    "# Step 6: Final Model Evaluation\n",
    "print(\"Final Model Analysis...\")\n",
    "\n",
    "# Get actual feature names after preprocessing\n",
    "print(f\"Number of features after preprocessing: {X_train_processed.shape[1]}\")\n",
    "print(f\"Number of feature importances: {len(best_model.feature_importances_)}\")\n",
    "\n",
    "# Create proper feature names\n",
    "# Get categorical feature names from encoder\n",
    "cat_feature_names = []\n",
    "for i, cat_feature in enumerate(categorical_features):\n",
    "    categories = preprocessor.named_transformers_['cat'].named_steps['encoder'].categories_[i]\n",
    "    # Skip first category due to drop='first'\n",
    "    cat_names = [f\"{cat_feature}_{cat}\" for cat in categories[1:]]\n",
    "    cat_feature_names.extend(cat_names)\n",
    "\n",
    "# Combine all feature names\n",
    "all_feature_names = numeric_features + cat_feature_names\n",
    "\n",
    "print(f\"Total feature names created: {len(all_feature_names)}\")\n",
    "\n",
    "# Feature importance analysis\n",
    "feature_importance = pd.DataFrame({\n",
    "    'feature': all_feature_names,\n",
    "    'importance': best_model.feature_importances_\n",
    "}).sort_values('importance', ascending=False)\n",
    "\n",
    "print(\"Top 10 Most Important Features:\")\n",
    "print(feature_importance.head(10))"
   ]
  },
  {
   "cell_type": "code",
   "execution_count": 43,
   "id": "7f76a816",
   "metadata": {},
   "outputs": [],
   "source": [
    "import plotly.express as px\n",
    "import plotly.graph_objects as go\n",
    "import pandas as pd"
   ]
  },
  {
   "cell_type": "code",
   "execution_count": 45,
   "id": "635b1fff",
   "metadata": {},
   "outputs": [
    {
     "data": {
      "application/vnd.plotly.v1+json": {
       "config": {
        "plotlyServerURL": "https://plot.ly"
       },
       "data": [
        {
         "alignmentgroup": "True",
         "hovertemplate": "Importance=%{marker.color}<br>Features=%{y}<extra></extra>",
         "legendgroup": "",
         "marker": {
          "color": [
           0.1540164202451706,
           0.13131791353225708,
           0.08300328254699707,
           0.0802706927061081,
           0.06939443945884705,
           0.06919713318347931,
           0.054104506969451904,
           0.03648129478096962,
           0.03528254106640816,
           0.02481446973979473,
           0.023794103413820267,
           0.022943595424294472,
           0.022160092368721962,
           0.02095540054142475,
           0.020813116803765297
          ],
          "coloraxis": "coloraxis",
          "pattern": {
           "shape": ""
          }
         },
         "name": "",
         "offsetgroup": "",
         "orientation": "h",
         "showlegend": false,
         "textposition": "auto",
         "type": "bar",
         "x": [
          0.1540164202451706,
          0.13131791353225708,
          0.08300328254699707,
          0.0802706927061081,
          0.06939443945884705,
          0.06919713318347931,
          0.054104506969451904,
          0.03648129478096962,
          0.03528254106640816,
          0.02481446973979473,
          0.023794103413820267,
          0.022943595424294472,
          0.022160092368721962,
          0.02095540054142475,
          0.020813116803765297
         ],
         "xaxis": "x",
         "y": [
          "distance_TER_km",
          "latitude",
          "zone_6",
          "annee_2024",
          "longitude",
          "zone_3",
          "zone_1",
          "zone_2",
          "annee_2023",
          "nombre_lots",
          "nombre_pieces_principales",
          "distance_universite_km",
          "zone_4",
          "distance_metro_km",
          "annee_construction_dpe"
         ],
         "yaxis": "y"
        }
       ],
       "layout": {
        "barmode": "relative",
        "coloraxis": {
         "colorbar": {
          "title": {
           "text": "Importance"
          }
         },
         "colorscale": [
          [
           0,
           "#440154"
          ],
          [
           0.1111111111111111,
           "#482878"
          ],
          [
           0.2222222222222222,
           "#3e4989"
          ],
          [
           0.3333333333333333,
           "#31688e"
          ],
          [
           0.4444444444444444,
           "#26828e"
          ],
          [
           0.5555555555555556,
           "#1f9e89"
          ],
          [
           0.6666666666666666,
           "#35b779"
          ],
          [
           0.7777777777777778,
           "#6ece58"
          ],
          [
           0.8888888888888888,
           "#b5de2b"
          ],
          [
           1,
           "#fde725"
          ]
         ]
        },
        "font": {
         "size": 12
        },
        "height": 600,
        "legend": {
         "tracegroupgap": 0
        },
        "template": {
         "data": {
          "bar": [
           {
            "error_x": {
             "color": "#2a3f5f"
            },
            "error_y": {
             "color": "#2a3f5f"
            },
            "marker": {
             "line": {
              "color": "#E5ECF6",
              "width": 0.5
             },
             "pattern": {
              "fillmode": "overlay",
              "size": 10,
              "solidity": 0.2
             }
            },
            "type": "bar"
           }
          ],
          "barpolar": [
           {
            "marker": {
             "line": {
              "color": "#E5ECF6",
              "width": 0.5
             },
             "pattern": {
              "fillmode": "overlay",
              "size": 10,
              "solidity": 0.2
             }
            },
            "type": "barpolar"
           }
          ],
          "carpet": [
           {
            "aaxis": {
             "endlinecolor": "#2a3f5f",
             "gridcolor": "white",
             "linecolor": "white",
             "minorgridcolor": "white",
             "startlinecolor": "#2a3f5f"
            },
            "baxis": {
             "endlinecolor": "#2a3f5f",
             "gridcolor": "white",
             "linecolor": "white",
             "minorgridcolor": "white",
             "startlinecolor": "#2a3f5f"
            },
            "type": "carpet"
           }
          ],
          "choropleth": [
           {
            "colorbar": {
             "outlinewidth": 0,
             "ticks": ""
            },
            "type": "choropleth"
           }
          ],
          "contour": [
           {
            "colorbar": {
             "outlinewidth": 0,
             "ticks": ""
            },
            "colorscale": [
             [
              0,
              "#0d0887"
             ],
             [
              0.1111111111111111,
              "#46039f"
             ],
             [
              0.2222222222222222,
              "#7201a8"
             ],
             [
              0.3333333333333333,
              "#9c179e"
             ],
             [
              0.4444444444444444,
              "#bd3786"
             ],
             [
              0.5555555555555556,
              "#d8576b"
             ],
             [
              0.6666666666666666,
              "#ed7953"
             ],
             [
              0.7777777777777778,
              "#fb9f3a"
             ],
             [
              0.8888888888888888,
              "#fdca26"
             ],
             [
              1,
              "#f0f921"
             ]
            ],
            "type": "contour"
           }
          ],
          "contourcarpet": [
           {
            "colorbar": {
             "outlinewidth": 0,
             "ticks": ""
            },
            "type": "contourcarpet"
           }
          ],
          "heatmap": [
           {
            "colorbar": {
             "outlinewidth": 0,
             "ticks": ""
            },
            "colorscale": [
             [
              0,
              "#0d0887"
             ],
             [
              0.1111111111111111,
              "#46039f"
             ],
             [
              0.2222222222222222,
              "#7201a8"
             ],
             [
              0.3333333333333333,
              "#9c179e"
             ],
             [
              0.4444444444444444,
              "#bd3786"
             ],
             [
              0.5555555555555556,
              "#d8576b"
             ],
             [
              0.6666666666666666,
              "#ed7953"
             ],
             [
              0.7777777777777778,
              "#fb9f3a"
             ],
             [
              0.8888888888888888,
              "#fdca26"
             ],
             [
              1,
              "#f0f921"
             ]
            ],
            "type": "heatmap"
           }
          ],
          "heatmapgl": [
           {
            "colorbar": {
             "outlinewidth": 0,
             "ticks": ""
            },
            "colorscale": [
             [
              0,
              "#0d0887"
             ],
             [
              0.1111111111111111,
              "#46039f"
             ],
             [
              0.2222222222222222,
              "#7201a8"
             ],
             [
              0.3333333333333333,
              "#9c179e"
             ],
             [
              0.4444444444444444,
              "#bd3786"
             ],
             [
              0.5555555555555556,
              "#d8576b"
             ],
             [
              0.6666666666666666,
              "#ed7953"
             ],
             [
              0.7777777777777778,
              "#fb9f3a"
             ],
             [
              0.8888888888888888,
              "#fdca26"
             ],
             [
              1,
              "#f0f921"
             ]
            ],
            "type": "heatmapgl"
           }
          ],
          "histogram": [
           {
            "marker": {
             "pattern": {
              "fillmode": "overlay",
              "size": 10,
              "solidity": 0.2
             }
            },
            "type": "histogram"
           }
          ],
          "histogram2d": [
           {
            "colorbar": {
             "outlinewidth": 0,
             "ticks": ""
            },
            "colorscale": [
             [
              0,
              "#0d0887"
             ],
             [
              0.1111111111111111,
              "#46039f"
             ],
             [
              0.2222222222222222,
              "#7201a8"
             ],
             [
              0.3333333333333333,
              "#9c179e"
             ],
             [
              0.4444444444444444,
              "#bd3786"
             ],
             [
              0.5555555555555556,
              "#d8576b"
             ],
             [
              0.6666666666666666,
              "#ed7953"
             ],
             [
              0.7777777777777778,
              "#fb9f3a"
             ],
             [
              0.8888888888888888,
              "#fdca26"
             ],
             [
              1,
              "#f0f921"
             ]
            ],
            "type": "histogram2d"
           }
          ],
          "histogram2dcontour": [
           {
            "colorbar": {
             "outlinewidth": 0,
             "ticks": ""
            },
            "colorscale": [
             [
              0,
              "#0d0887"
             ],
             [
              0.1111111111111111,
              "#46039f"
             ],
             [
              0.2222222222222222,
              "#7201a8"
             ],
             [
              0.3333333333333333,
              "#9c179e"
             ],
             [
              0.4444444444444444,
              "#bd3786"
             ],
             [
              0.5555555555555556,
              "#d8576b"
             ],
             [
              0.6666666666666666,
              "#ed7953"
             ],
             [
              0.7777777777777778,
              "#fb9f3a"
             ],
             [
              0.8888888888888888,
              "#fdca26"
             ],
             [
              1,
              "#f0f921"
             ]
            ],
            "type": "histogram2dcontour"
           }
          ],
          "mesh3d": [
           {
            "colorbar": {
             "outlinewidth": 0,
             "ticks": ""
            },
            "type": "mesh3d"
           }
          ],
          "parcoords": [
           {
            "line": {
             "colorbar": {
              "outlinewidth": 0,
              "ticks": ""
             }
            },
            "type": "parcoords"
           }
          ],
          "pie": [
           {
            "automargin": true,
            "type": "pie"
           }
          ],
          "scatter": [
           {
            "fillpattern": {
             "fillmode": "overlay",
             "size": 10,
             "solidity": 0.2
            },
            "type": "scatter"
           }
          ],
          "scatter3d": [
           {
            "line": {
             "colorbar": {
              "outlinewidth": 0,
              "ticks": ""
             }
            },
            "marker": {
             "colorbar": {
              "outlinewidth": 0,
              "ticks": ""
             }
            },
            "type": "scatter3d"
           }
          ],
          "scattercarpet": [
           {
            "marker": {
             "colorbar": {
              "outlinewidth": 0,
              "ticks": ""
             }
            },
            "type": "scattercarpet"
           }
          ],
          "scattergeo": [
           {
            "marker": {
             "colorbar": {
              "outlinewidth": 0,
              "ticks": ""
             }
            },
            "type": "scattergeo"
           }
          ],
          "scattergl": [
           {
            "marker": {
             "colorbar": {
              "outlinewidth": 0,
              "ticks": ""
             }
            },
            "type": "scattergl"
           }
          ],
          "scattermapbox": [
           {
            "marker": {
             "colorbar": {
              "outlinewidth": 0,
              "ticks": ""
             }
            },
            "type": "scattermapbox"
           }
          ],
          "scatterpolar": [
           {
            "marker": {
             "colorbar": {
              "outlinewidth": 0,
              "ticks": ""
             }
            },
            "type": "scatterpolar"
           }
          ],
          "scatterpolargl": [
           {
            "marker": {
             "colorbar": {
              "outlinewidth": 0,
              "ticks": ""
             }
            },
            "type": "scatterpolargl"
           }
          ],
          "scatterternary": [
           {
            "marker": {
             "colorbar": {
              "outlinewidth": 0,
              "ticks": ""
             }
            },
            "type": "scatterternary"
           }
          ],
          "surface": [
           {
            "colorbar": {
             "outlinewidth": 0,
             "ticks": ""
            },
            "colorscale": [
             [
              0,
              "#0d0887"
             ],
             [
              0.1111111111111111,
              "#46039f"
             ],
             [
              0.2222222222222222,
              "#7201a8"
             ],
             [
              0.3333333333333333,
              "#9c179e"
             ],
             [
              0.4444444444444444,
              "#bd3786"
             ],
             [
              0.5555555555555556,
              "#d8576b"
             ],
             [
              0.6666666666666666,
              "#ed7953"
             ],
             [
              0.7777777777777778,
              "#fb9f3a"
             ],
             [
              0.8888888888888888,
              "#fdca26"
             ],
             [
              1,
              "#f0f921"
             ]
            ],
            "type": "surface"
           }
          ],
          "table": [
           {
            "cells": {
             "fill": {
              "color": "#EBF0F8"
             },
             "line": {
              "color": "white"
             }
            },
            "header": {
             "fill": {
              "color": "#C8D4E3"
             },
             "line": {
              "color": "white"
             }
            },
            "type": "table"
           }
          ]
         },
         "layout": {
          "annotationdefaults": {
           "arrowcolor": "#2a3f5f",
           "arrowhead": 0,
           "arrowwidth": 1
          },
          "autotypenumbers": "strict",
          "coloraxis": {
           "colorbar": {
            "outlinewidth": 0,
            "ticks": ""
           }
          },
          "colorscale": {
           "diverging": [
            [
             0,
             "#8e0152"
            ],
            [
             0.1,
             "#c51b7d"
            ],
            [
             0.2,
             "#de77ae"
            ],
            [
             0.3,
             "#f1b6da"
            ],
            [
             0.4,
             "#fde0ef"
            ],
            [
             0.5,
             "#f7f7f7"
            ],
            [
             0.6,
             "#e6f5d0"
            ],
            [
             0.7,
             "#b8e186"
            ],
            [
             0.8,
             "#7fbc41"
            ],
            [
             0.9,
             "#4d9221"
            ],
            [
             1,
             "#276419"
            ]
           ],
           "sequential": [
            [
             0,
             "#0d0887"
            ],
            [
             0.1111111111111111,
             "#46039f"
            ],
            [
             0.2222222222222222,
             "#7201a8"
            ],
            [
             0.3333333333333333,
             "#9c179e"
            ],
            [
             0.4444444444444444,
             "#bd3786"
            ],
            [
             0.5555555555555556,
             "#d8576b"
            ],
            [
             0.6666666666666666,
             "#ed7953"
            ],
            [
             0.7777777777777778,
             "#fb9f3a"
            ],
            [
             0.8888888888888888,
             "#fdca26"
            ],
            [
             1,
             "#f0f921"
            ]
           ],
           "sequentialminus": [
            [
             0,
             "#0d0887"
            ],
            [
             0.1111111111111111,
             "#46039f"
            ],
            [
             0.2222222222222222,
             "#7201a8"
            ],
            [
             0.3333333333333333,
             "#9c179e"
            ],
            [
             0.4444444444444444,
             "#bd3786"
            ],
            [
             0.5555555555555556,
             "#d8576b"
            ],
            [
             0.6666666666666666,
             "#ed7953"
            ],
            [
             0.7777777777777778,
             "#fb9f3a"
            ],
            [
             0.8888888888888888,
             "#fdca26"
            ],
            [
             1,
             "#f0f921"
            ]
           ]
          },
          "colorway": [
           "#636efa",
           "#EF553B",
           "#00cc96",
           "#ab63fa",
           "#FFA15A",
           "#19d3f3",
           "#FF6692",
           "#B6E880",
           "#FF97FF",
           "#FECB52"
          ],
          "font": {
           "color": "#2a3f5f"
          },
          "geo": {
           "bgcolor": "white",
           "lakecolor": "white",
           "landcolor": "#E5ECF6",
           "showlakes": true,
           "showland": true,
           "subunitcolor": "white"
          },
          "hoverlabel": {
           "align": "left"
          },
          "hovermode": "closest",
          "mapbox": {
           "style": "light"
          },
          "paper_bgcolor": "white",
          "plot_bgcolor": "#E5ECF6",
          "polar": {
           "angularaxis": {
            "gridcolor": "white",
            "linecolor": "white",
            "ticks": ""
           },
           "bgcolor": "#E5ECF6",
           "radialaxis": {
            "gridcolor": "white",
            "linecolor": "white",
            "ticks": ""
           }
          },
          "scene": {
           "xaxis": {
            "backgroundcolor": "#E5ECF6",
            "gridcolor": "white",
            "gridwidth": 2,
            "linecolor": "white",
            "showbackground": true,
            "ticks": "",
            "zerolinecolor": "white"
           },
           "yaxis": {
            "backgroundcolor": "#E5ECF6",
            "gridcolor": "white",
            "gridwidth": 2,
            "linecolor": "white",
            "showbackground": true,
            "ticks": "",
            "zerolinecolor": "white"
           },
           "zaxis": {
            "backgroundcolor": "#E5ECF6",
            "gridcolor": "white",
            "gridwidth": 2,
            "linecolor": "white",
            "showbackground": true,
            "ticks": "",
            "zerolinecolor": "white"
           }
          },
          "shapedefaults": {
           "line": {
            "color": "#2a3f5f"
           }
          },
          "ternary": {
           "aaxis": {
            "gridcolor": "white",
            "linecolor": "white",
            "ticks": ""
           },
           "baxis": {
            "gridcolor": "white",
            "linecolor": "white",
            "ticks": ""
           },
           "bgcolor": "#E5ECF6",
           "caxis": {
            "gridcolor": "white",
            "linecolor": "white",
            "ticks": ""
           }
          },
          "title": {
           "x": 0.05
          },
          "xaxis": {
           "automargin": true,
           "gridcolor": "white",
           "linecolor": "white",
           "ticks": "",
           "title": {
            "standoff": 15
           },
           "zerolinecolor": "white",
           "zerolinewidth": 2
          },
          "yaxis": {
           "automargin": true,
           "gridcolor": "white",
           "linecolor": "white",
           "ticks": "",
           "title": {
            "standoff": 15
           },
           "zerolinecolor": "white",
           "zerolinewidth": 2
          }
         }
        },
        "title": {
         "font": {
          "size": 16
         },
         "text": "Top 15 Features - Importance dans le Modèle K Mean"
        },
        "xaxis": {
         "anchor": "y",
         "domain": [
          0,
          1
         ],
         "title": {
          "text": "Importance"
         }
        },
        "yaxis": {
         "anchor": "x",
         "categoryorder": "total ascending",
         "domain": [
          0,
          1
         ],
         "title": {
          "text": "Features"
         }
        }
       }
      }
     },
     "metadata": {},
     "output_type": "display_data"
    }
   ],
   "source": [
    "feature_importance_df = pd.DataFrame({\n",
    "    'feature': all_feature_names,  # Tes noms de features créés précédemment\n",
    "    'importance': best_model.feature_importances_  # Du XGBoost GridSearch\n",
    "}).sort_values('importance', ascending=False)\n",
    "\n",
    "# 1. TOP 15 FEATURES - Horizontal Bar Chart\n",
    "fig1 = px.bar(\n",
    "    feature_importance_df.head(15), \n",
    "    x='importance', \n",
    "    y='feature',\n",
    "    orientation='h',\n",
    "    title='Top 15 Features - Importance dans le Modèle K Mean',\n",
    "    labels={'importance': 'Importance', 'feature': 'Features'},\n",
    "    color='importance',\n",
    "    color_continuous_scale='Viridis'\n",
    ")\n",
    "\n",
    "fig1.update_layout(\n",
    "    height=600,\n",
    "    yaxis={'categoryorder': 'total ascending'},\n",
    "    font=dict(size=12),\n",
    "    title_font_size=16\n",
    ")\n",
    "\n",
    "fig1.show()"
   ]
  },
  {
   "cell_type": "code",
   "execution_count": 57,
   "id": "bd3b9302",
   "metadata": {},
   "outputs": [
    {
     "data": {
      "application/vnd.plotly.v1+json": {
       "config": {
        "plotlyServerURL": "https://plot.ly"
       },
       "data": [
        {
         "domain": {
          "x": [
           0,
           1
          ],
          "y": [
           0,
           1
          ]
         },
         "hovertemplate": "feature=%{label}<br>importance_pct=%{value}<extra></extra>",
         "labels": [
          "arrondissement_16",
          "arrondissement_7",
          "arrondissement_6",
          "distance_batiment_m",
          "arrondissement_11",
          "distance_TER_km",
          "arrondissement_15",
          "arrondissement_10",
          "annee_2024",
          "arrondissement_4"
         ],
         "legendgroup": "",
         "name": "",
         "showlegend": true,
         "textinfo": "percent+label",
         "textposition": "inside",
         "type": "pie",
         "values": [
          49.12431335449219,
          10.484502792358398,
          8.632535934448242,
          6.867663383483887,
          6.761653900146484,
          4.789553165435791,
          4.561518669128418,
          4.268057346343994,
          2.6007907390594482,
          1.9094175100326538
         ]
        }
       ],
       "layout": {
        "font": {
         "size": 11
        },
        "legend": {
         "tracegroupgap": 0
        },
        "template": {
         "data": {
          "bar": [
           {
            "error_x": {
             "color": "#2a3f5f"
            },
            "error_y": {
             "color": "#2a3f5f"
            },
            "marker": {
             "line": {
              "color": "#E5ECF6",
              "width": 0.5
             },
             "pattern": {
              "fillmode": "overlay",
              "size": 10,
              "solidity": 0.2
             }
            },
            "type": "bar"
           }
          ],
          "barpolar": [
           {
            "marker": {
             "line": {
              "color": "#E5ECF6",
              "width": 0.5
             },
             "pattern": {
              "fillmode": "overlay",
              "size": 10,
              "solidity": 0.2
             }
            },
            "type": "barpolar"
           }
          ],
          "carpet": [
           {
            "aaxis": {
             "endlinecolor": "#2a3f5f",
             "gridcolor": "white",
             "linecolor": "white",
             "minorgridcolor": "white",
             "startlinecolor": "#2a3f5f"
            },
            "baxis": {
             "endlinecolor": "#2a3f5f",
             "gridcolor": "white",
             "linecolor": "white",
             "minorgridcolor": "white",
             "startlinecolor": "#2a3f5f"
            },
            "type": "carpet"
           }
          ],
          "choropleth": [
           {
            "colorbar": {
             "outlinewidth": 0,
             "ticks": ""
            },
            "type": "choropleth"
           }
          ],
          "contour": [
           {
            "colorbar": {
             "outlinewidth": 0,
             "ticks": ""
            },
            "colorscale": [
             [
              0,
              "#0d0887"
             ],
             [
              0.1111111111111111,
              "#46039f"
             ],
             [
              0.2222222222222222,
              "#7201a8"
             ],
             [
              0.3333333333333333,
              "#9c179e"
             ],
             [
              0.4444444444444444,
              "#bd3786"
             ],
             [
              0.5555555555555556,
              "#d8576b"
             ],
             [
              0.6666666666666666,
              "#ed7953"
             ],
             [
              0.7777777777777778,
              "#fb9f3a"
             ],
             [
              0.8888888888888888,
              "#fdca26"
             ],
             [
              1,
              "#f0f921"
             ]
            ],
            "type": "contour"
           }
          ],
          "contourcarpet": [
           {
            "colorbar": {
             "outlinewidth": 0,
             "ticks": ""
            },
            "type": "contourcarpet"
           }
          ],
          "heatmap": [
           {
            "colorbar": {
             "outlinewidth": 0,
             "ticks": ""
            },
            "colorscale": [
             [
              0,
              "#0d0887"
             ],
             [
              0.1111111111111111,
              "#46039f"
             ],
             [
              0.2222222222222222,
              "#7201a8"
             ],
             [
              0.3333333333333333,
              "#9c179e"
             ],
             [
              0.4444444444444444,
              "#bd3786"
             ],
             [
              0.5555555555555556,
              "#d8576b"
             ],
             [
              0.6666666666666666,
              "#ed7953"
             ],
             [
              0.7777777777777778,
              "#fb9f3a"
             ],
             [
              0.8888888888888888,
              "#fdca26"
             ],
             [
              1,
              "#f0f921"
             ]
            ],
            "type": "heatmap"
           }
          ],
          "heatmapgl": [
           {
            "colorbar": {
             "outlinewidth": 0,
             "ticks": ""
            },
            "colorscale": [
             [
              0,
              "#0d0887"
             ],
             [
              0.1111111111111111,
              "#46039f"
             ],
             [
              0.2222222222222222,
              "#7201a8"
             ],
             [
              0.3333333333333333,
              "#9c179e"
             ],
             [
              0.4444444444444444,
              "#bd3786"
             ],
             [
              0.5555555555555556,
              "#d8576b"
             ],
             [
              0.6666666666666666,
              "#ed7953"
             ],
             [
              0.7777777777777778,
              "#fb9f3a"
             ],
             [
              0.8888888888888888,
              "#fdca26"
             ],
             [
              1,
              "#f0f921"
             ]
            ],
            "type": "heatmapgl"
           }
          ],
          "histogram": [
           {
            "marker": {
             "pattern": {
              "fillmode": "overlay",
              "size": 10,
              "solidity": 0.2
             }
            },
            "type": "histogram"
           }
          ],
          "histogram2d": [
           {
            "colorbar": {
             "outlinewidth": 0,
             "ticks": ""
            },
            "colorscale": [
             [
              0,
              "#0d0887"
             ],
             [
              0.1111111111111111,
              "#46039f"
             ],
             [
              0.2222222222222222,
              "#7201a8"
             ],
             [
              0.3333333333333333,
              "#9c179e"
             ],
             [
              0.4444444444444444,
              "#bd3786"
             ],
             [
              0.5555555555555556,
              "#d8576b"
             ],
             [
              0.6666666666666666,
              "#ed7953"
             ],
             [
              0.7777777777777778,
              "#fb9f3a"
             ],
             [
              0.8888888888888888,
              "#fdca26"
             ],
             [
              1,
              "#f0f921"
             ]
            ],
            "type": "histogram2d"
           }
          ],
          "histogram2dcontour": [
           {
            "colorbar": {
             "outlinewidth": 0,
             "ticks": ""
            },
            "colorscale": [
             [
              0,
              "#0d0887"
             ],
             [
              0.1111111111111111,
              "#46039f"
             ],
             [
              0.2222222222222222,
              "#7201a8"
             ],
             [
              0.3333333333333333,
              "#9c179e"
             ],
             [
              0.4444444444444444,
              "#bd3786"
             ],
             [
              0.5555555555555556,
              "#d8576b"
             ],
             [
              0.6666666666666666,
              "#ed7953"
             ],
             [
              0.7777777777777778,
              "#fb9f3a"
             ],
             [
              0.8888888888888888,
              "#fdca26"
             ],
             [
              1,
              "#f0f921"
             ]
            ],
            "type": "histogram2dcontour"
           }
          ],
          "mesh3d": [
           {
            "colorbar": {
             "outlinewidth": 0,
             "ticks": ""
            },
            "type": "mesh3d"
           }
          ],
          "parcoords": [
           {
            "line": {
             "colorbar": {
              "outlinewidth": 0,
              "ticks": ""
             }
            },
            "type": "parcoords"
           }
          ],
          "pie": [
           {
            "automargin": true,
            "type": "pie"
           }
          ],
          "scatter": [
           {
            "fillpattern": {
             "fillmode": "overlay",
             "size": 10,
             "solidity": 0.2
            },
            "type": "scatter"
           }
          ],
          "scatter3d": [
           {
            "line": {
             "colorbar": {
              "outlinewidth": 0,
              "ticks": ""
             }
            },
            "marker": {
             "colorbar": {
              "outlinewidth": 0,
              "ticks": ""
             }
            },
            "type": "scatter3d"
           }
          ],
          "scattercarpet": [
           {
            "marker": {
             "colorbar": {
              "outlinewidth": 0,
              "ticks": ""
             }
            },
            "type": "scattercarpet"
           }
          ],
          "scattergeo": [
           {
            "marker": {
             "colorbar": {
              "outlinewidth": 0,
              "ticks": ""
             }
            },
            "type": "scattergeo"
           }
          ],
          "scattergl": [
           {
            "marker": {
             "colorbar": {
              "outlinewidth": 0,
              "ticks": ""
             }
            },
            "type": "scattergl"
           }
          ],
          "scattermapbox": [
           {
            "marker": {
             "colorbar": {
              "outlinewidth": 0,
              "ticks": ""
             }
            },
            "type": "scattermapbox"
           }
          ],
          "scatterpolar": [
           {
            "marker": {
             "colorbar": {
              "outlinewidth": 0,
              "ticks": ""
             }
            },
            "type": "scatterpolar"
           }
          ],
          "scatterpolargl": [
           {
            "marker": {
             "colorbar": {
              "outlinewidth": 0,
              "ticks": ""
             }
            },
            "type": "scatterpolargl"
           }
          ],
          "scatterternary": [
           {
            "marker": {
             "colorbar": {
              "outlinewidth": 0,
              "ticks": ""
             }
            },
            "type": "scatterternary"
           }
          ],
          "surface": [
           {
            "colorbar": {
             "outlinewidth": 0,
             "ticks": ""
            },
            "colorscale": [
             [
              0,
              "#0d0887"
             ],
             [
              0.1111111111111111,
              "#46039f"
             ],
             [
              0.2222222222222222,
              "#7201a8"
             ],
             [
              0.3333333333333333,
              "#9c179e"
             ],
             [
              0.4444444444444444,
              "#bd3786"
             ],
             [
              0.5555555555555556,
              "#d8576b"
             ],
             [
              0.6666666666666666,
              "#ed7953"
             ],
             [
              0.7777777777777778,
              "#fb9f3a"
             ],
             [
              0.8888888888888888,
              "#fdca26"
             ],
             [
              1,
              "#f0f921"
             ]
            ],
            "type": "surface"
           }
          ],
          "table": [
           {
            "cells": {
             "fill": {
              "color": "#EBF0F8"
             },
             "line": {
              "color": "white"
             }
            },
            "header": {
             "fill": {
              "color": "#C8D4E3"
             },
             "line": {
              "color": "white"
             }
            },
            "type": "table"
           }
          ]
         },
         "layout": {
          "annotationdefaults": {
           "arrowcolor": "#2a3f5f",
           "arrowhead": 0,
           "arrowwidth": 1
          },
          "autotypenumbers": "strict",
          "coloraxis": {
           "colorbar": {
            "outlinewidth": 0,
            "ticks": ""
           }
          },
          "colorscale": {
           "diverging": [
            [
             0,
             "#8e0152"
            ],
            [
             0.1,
             "#c51b7d"
            ],
            [
             0.2,
             "#de77ae"
            ],
            [
             0.3,
             "#f1b6da"
            ],
            [
             0.4,
             "#fde0ef"
            ],
            [
             0.5,
             "#f7f7f7"
            ],
            [
             0.6,
             "#e6f5d0"
            ],
            [
             0.7,
             "#b8e186"
            ],
            [
             0.8,
             "#7fbc41"
            ],
            [
             0.9,
             "#4d9221"
            ],
            [
             1,
             "#276419"
            ]
           ],
           "sequential": [
            [
             0,
             "#0d0887"
            ],
            [
             0.1111111111111111,
             "#46039f"
            ],
            [
             0.2222222222222222,
             "#7201a8"
            ],
            [
             0.3333333333333333,
             "#9c179e"
            ],
            [
             0.4444444444444444,
             "#bd3786"
            ],
            [
             0.5555555555555556,
             "#d8576b"
            ],
            [
             0.6666666666666666,
             "#ed7953"
            ],
            [
             0.7777777777777778,
             "#fb9f3a"
            ],
            [
             0.8888888888888888,
             "#fdca26"
            ],
            [
             1,
             "#f0f921"
            ]
           ],
           "sequentialminus": [
            [
             0,
             "#0d0887"
            ],
            [
             0.1111111111111111,
             "#46039f"
            ],
            [
             0.2222222222222222,
             "#7201a8"
            ],
            [
             0.3333333333333333,
             "#9c179e"
            ],
            [
             0.4444444444444444,
             "#bd3786"
            ],
            [
             0.5555555555555556,
             "#d8576b"
            ],
            [
             0.6666666666666666,
             "#ed7953"
            ],
            [
             0.7777777777777778,
             "#fb9f3a"
            ],
            [
             0.8888888888888888,
             "#fdca26"
            ],
            [
             1,
             "#f0f921"
            ]
           ]
          },
          "colorway": [
           "#636efa",
           "#EF553B",
           "#00cc96",
           "#ab63fa",
           "#FFA15A",
           "#19d3f3",
           "#FF6692",
           "#B6E880",
           "#FF97FF",
           "#FECB52"
          ],
          "font": {
           "color": "#2a3f5f"
          },
          "geo": {
           "bgcolor": "white",
           "lakecolor": "white",
           "landcolor": "#E5ECF6",
           "showlakes": true,
           "showland": true,
           "subunitcolor": "white"
          },
          "hoverlabel": {
           "align": "left"
          },
          "hovermode": "closest",
          "mapbox": {
           "style": "light"
          },
          "paper_bgcolor": "white",
          "plot_bgcolor": "#E5ECF6",
          "polar": {
           "angularaxis": {
            "gridcolor": "white",
            "linecolor": "white",
            "ticks": ""
           },
           "bgcolor": "#E5ECF6",
           "radialaxis": {
            "gridcolor": "white",
            "linecolor": "white",
            "ticks": ""
           }
          },
          "scene": {
           "xaxis": {
            "backgroundcolor": "#E5ECF6",
            "gridcolor": "white",
            "gridwidth": 2,
            "linecolor": "white",
            "showbackground": true,
            "ticks": "",
            "zerolinecolor": "white"
           },
           "yaxis": {
            "backgroundcolor": "#E5ECF6",
            "gridcolor": "white",
            "gridwidth": 2,
            "linecolor": "white",
            "showbackground": true,
            "ticks": "",
            "zerolinecolor": "white"
           },
           "zaxis": {
            "backgroundcolor": "#E5ECF6",
            "gridcolor": "white",
            "gridwidth": 2,
            "linecolor": "white",
            "showbackground": true,
            "ticks": "",
            "zerolinecolor": "white"
           }
          },
          "shapedefaults": {
           "line": {
            "color": "#2a3f5f"
           }
          },
          "ternary": {
           "aaxis": {
            "gridcolor": "white",
            "linecolor": "white",
            "ticks": ""
           },
           "baxis": {
            "gridcolor": "white",
            "linecolor": "white",
            "ticks": ""
           },
           "bgcolor": "#E5ECF6",
           "caxis": {
            "gridcolor": "white",
            "linecolor": "white",
            "ticks": ""
           }
          },
          "title": {
           "x": 0.05
          },
          "xaxis": {
           "automargin": true,
           "gridcolor": "white",
           "linecolor": "white",
           "ticks": "",
           "title": {
            "standoff": 15
           },
           "zerolinecolor": "white",
           "zerolinewidth": 2
          },
          "yaxis": {
           "automargin": true,
           "gridcolor": "white",
           "linecolor": "white",
           "ticks": "",
           "title": {
            "standoff": 15
           },
           "zerolinecolor": "white",
           "zerolinewidth": 2
          }
         }
        },
        "title": {
         "text": "Répartition des Top 10 Features les plus Importantes"
        }
       }
      }
     },
     "metadata": {},
     "output_type": "display_data"
    }
   ],
   "source": [
    "# 2. TOP 10 FEATURES - Pie Chart pour les proportions\n",
    "top_10 = feature_importance_df.head(10).copy()\n",
    "top_10['importance_pct'] = top_10['importance'] / top_10['importance'].sum() * 100\n",
    "\n",
    "fig2 = px.pie(\n",
    "    top_10,\n",
    "    values='importance_pct',\n",
    "    names='feature',\n",
    "    title='Répartition des Top 10 Features les plus Importantes'\n",
    ")\n",
    "\n",
    "fig2.update_traces(textposition='inside', textinfo='percent+label')\n",
    "fig2.update_layout(font=dict(size=11))\n",
    "fig2.show()"
   ]
  },
  {
   "cell_type": "code",
   "execution_count": 59,
   "id": "386a56f3",
   "metadata": {},
   "outputs": [
    {
     "name": "stdout",
     "output_type": "stream",
     "text": [
      "Business Performance Metrics:\n",
      "Predictions within ±10%: 47.0%\n",
      "Predictions within ±15%: 63.8%\n",
      "Predictions within ±20%: 75.4%\n",
      "\n",
      "Error distribution:\n",
      "Median Absolute Error: 1,138€/m²\n",
      "90th percentile error: 34.2%\n"
     ]
    }
   ],
   "source": [
    "# ÉTAPE 1: Calculer les erreurs en pourcentage pour chaque prédiction\n",
    "errors_pct = np.abs(y_test - y_test_pred) / y_test * 100\n",
    "\n",
    "# ÉTAPE 2: Compter les prédictions dans différents seuils\n",
    "within_10pct = np.sum(errors_pct <= 10) / len(errors_pct) * 100\n",
    "within_15pct = np.sum(errors_pct <= 15) / len(errors_pct) * 100\n",
    "within_20pct = np.sum(errors_pct <= 20) / len(errors_pct) * 100\n",
    "\n",
    "print(\"Business Performance Metrics:\")\n",
    "print(f\"Predictions within ±10%: {within_10pct:.1f}%\")\n",
    "print(f\"Predictions within ±15%: {within_15pct:.1f}%\")\n",
    "print(f\"Predictions within ±20%: {within_20pct:.1f}%\")\n",
    "\n",
    "# BONUS: Distribution des erreurs\n",
    "print(f\"\\nError distribution:\")\n",
    "print(f\"Median Absolute Error: {np.median(np.abs(y_test - y_test_pred)):,.0f}€/m²\")\n",
    "print(f\"90th percentile error: {np.percentile(errors_pct, 90):.1f}%\")"
   ]
  }
 ],
 "metadata": {
  "kernelspec": {
   "display_name": "base",
   "language": "python",
   "name": "python3"
  },
  "language_info": {
   "codemirror_mode": {
    "name": "ipython",
    "version": 3
   },
   "file_extension": ".py",
   "mimetype": "text/x-python",
   "name": "python",
   "nbconvert_exporter": "python",
   "pygments_lexer": "ipython3",
   "version": "3.8.8"
  }
 },
 "nbformat": 4,
 "nbformat_minor": 5
}

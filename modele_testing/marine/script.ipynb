{
 "cells": [
  {
   "cell_type": "code",
   "execution_count": null,
   "id": "5408e448",
   "metadata": {},
   "outputs": [],
   "source": [
    "import os\n",
    "# on se replace à la racine du projet pour utiliser les modules créé dans le projet\n",
    "os.chdir(\"../../..\")\n",
    "from data_storage.sql_alchemy_connect.alchemy_cur import AlchemyConn\n",
    "import pandas as pd\n",
    "\n"
   ]
  },
  {
   "cell_type": "code",
   "execution_count": 12,
   "id": "cc2483b5",
   "metadata": {},
   "outputs": [],
   "source": [
    "connector = AlchemyConn()\n",
    "df = pd.read_sql('SELECT * FROM raw_data',con=connector.get_engine())"
   ]
  },
  {
   "cell_type": "code",
   "execution_count": 13,
   "id": "c008ec44",
   "metadata": {},
   "outputs": [
    {
     "name": "stdout",
     "output_type": "stream",
     "text": [
      "   id  surface_reelle_bati   prix_m2  nombre_pieces_principales  longitude  \\\n",
      "0   3                 78.0  11643.60                        3.0    2.25112   \n",
      "1   4                 70.0   8571.43                        3.0    2.25190   \n",
      "2   5                 77.0  10066.60                        4.0    2.25243   \n",
      "3   6                 67.0   8208.96                        3.0    2.25287   \n",
      "4   7                 74.0   9331.08                        3.0    2.25137   \n",
      "\n",
      "   latitude  nombre_lots  annee  arrondissement  distance_datashop_km  ...  \\\n",
      "0   48.8430            2   2020              16              1.123880  ...   \n",
      "1   48.8384            4   2020              16              0.152864  ...   \n",
      "2   48.8377            1   2020              16              0.769220  ...   \n",
      "3   48.8374            2   2020              16              0.410568  ...   \n",
      "4   48.8393            2   2020              16              0.269765  ...   \n",
      "\n",
      "   distance_universite_km  distance_ecole_km  distance_metro_km  \\\n",
      "0                 46.0674            5.73528            2.51990   \n",
      "1                 43.4486            8.65057            2.50908   \n",
      "2                 43.6236            9.12814            2.53590   \n",
      "3                 43.9093            9.38046            2.56742   \n",
      "4                 43.4075            8.15970            2.49216   \n",
      "\n",
      "   distance_TER_km  distance_POI_min_km  proche_POI_1km  nb_POIs_inf_1km  \\\n",
      "0          6.77638             1.123880               0                0   \n",
      "1          7.24241             0.152864               1                1   \n",
      "2          7.14826             0.769220               1                1   \n",
      "3          7.08835             0.410568               1                1   \n",
      "4          7.16411             0.269765               1                1   \n",
      "\n",
      "   cle_interop_adr_proche  distance_batiment_m annee_construction_dpe  \n",
      "0        75114_7184_00142            6888420.0                 1948.0  \n",
      "1        75114_7184_00142            6888420.0                 1947.0  \n",
      "2        75114_7184_00142            6888420.0                 1947.0  \n",
      "3        75114_7184_00142            6888420.0                 1947.0  \n",
      "4        75114_7184_00142            6888420.0                 1947.0  \n",
      "\n",
      "[5 rows x 22 columns]\n",
      "(137917, 22)\n"
     ]
    }
   ],
   "source": [
    "print(df.head())\n",
    "print(df.shape)"
   ]
  },
  {
   "cell_type": "code",
   "execution_count": null,
   "id": "ab81c46b",
   "metadata": {},
   "outputs": [],
   "source": []
  }
 ],
 "metadata": {
  "kernelspec": {
   "display_name": "venv",
   "language": "python",
   "name": "python3"
  },
  "language_info": {
   "codemirror_mode": {
    "name": "ipython",
    "version": 3
   },
   "file_extension": ".py",
   "mimetype": "text/x-python",
   "name": "python",
   "nbconvert_exporter": "python",
   "pygments_lexer": "ipython3",
   "version": "3.13.1"
  }
 },
 "nbformat": 4,
 "nbformat_minor": 5
}

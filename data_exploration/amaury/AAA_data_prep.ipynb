{
 "cells": [
  {
   "cell_type": "code",
   "execution_count": 1,
   "id": "d8efac43",
   "metadata": {},
   "outputs": [],
   "source": [
    "import pandas as pd"
   ]
  },
  {
   "cell_type": "code",
   "execution_count": 2,
   "id": "60417f30",
   "metadata": {},
   "outputs": [
    {
     "name": "stdout",
     "output_type": "stream",
     "text": [
      "Loading files and extracting Paris data...\n",
      "Loading full20.csv...\n",
      "  ✅ full20.csv: 3,522,416 total rows → 59,283 Paris rows\n",
      "Loading full21.csv...\n",
      "  ✅ full21.csv: 4,673,720 total rows → 87,643 Paris rows\n",
      "Loading full22.csv...\n",
      "  ✅ full22.csv: 4,671,911 total rows → 103,627 Paris rows\n",
      "Loading full23.csv...\n",
      "  ✅ full23.csv: 3,806,978 total rows → 85,455 Paris rows\n",
      "Loading full24.csv...\n",
      "  ✅ full24.csv: 3,458,643 total rows → 78,443 Paris rows\n",
      "\n",
      "Concatenating all Paris data...\n",
      "Total Paris data: 414,451 rows, 40 columns\n",
      "✅ Final file saved: full_paris_20_24.csv\n"
     ]
    }
   ],
   "source": [
    "# Liste des fichiers\n",
    "files = ['full20.csv', 'full21.csv', 'full22.csv', 'full23.csv', 'full24.csv']\n",
    "print(\"Loading files and extracting Paris data...\")\n",
    "\n",
    "# Liste pour stocker tous les DataFrames Paris\n",
    "paris_dataframes = []\n",
    "\n",
    "for file in files:\n",
    "    print(f\"Loading {file}...\")\n",
    "    df = pd.read_csv(file, low_memory=False)\n",
    "    \n",
    "    # Filtrer directement pour Paris (code postal 75000-76000)\n",
    "    df_paris = df[(df['code_postal'] >= 75000) & (df['code_postal'] <= 76000)]\n",
    "    print(f\"  ✅ {file}: {df.shape[0]:,} total rows → {df_paris.shape[0]:,} Paris rows\")\n",
    "\n",
    "    # Ajouter à la liste des DataFrames Paris\n",
    "    paris_dataframes.append(df_paris)\n",
    "    \n",
    "    # Nettoyer la mémoire\n",
    "    del df, df_paris\n",
    "\n",
    "# Concatenation de toutes les données Paris\n",
    "print(\"\\nConcatenating all Paris data...\")\n",
    "full_paris = pd.concat(paris_dataframes, ignore_index=True)\n",
    "\n",
    "print(f\"Total Paris data: {full_paris.shape[0]:,} rows, {full_paris.shape[1]} columns\")\n",
    "\n",
    "# Sauvegarde du fichier final UNIQUEMENT\n",
    "final_output = \"full_paris_20_24.csv\"\n",
    "full_paris.to_csv(final_output, index=False)\n",
    "print(f\"✅ Final file saved: {final_output}\")"
   ]
  }
 ],
 "metadata": {
  "kernelspec": {
   "display_name": "base",
   "language": "python",
   "name": "python3"
  },
  "language_info": {
   "codemirror_mode": {
    "name": "ipython",
    "version": 3
   },
   "file_extension": ".py",
   "mimetype": "text/x-python",
   "name": "python",
   "nbconvert_exporter": "python",
   "pygments_lexer": "ipython3",
   "version": "3.8.8"
  }
 },
 "nbformat": 4,
 "nbformat_minor": 5
}

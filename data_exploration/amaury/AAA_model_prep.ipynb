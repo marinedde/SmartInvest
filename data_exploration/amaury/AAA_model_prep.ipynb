{
 "cells": [
  {
   "cell_type": "code",
   "execution_count": 15,
   "id": "9c9b66db",
   "metadata": {},
   "outputs": [],
   "source": [
    "from sklearn.model_selection import train_test_split\n",
    "from sklearn.preprocessing import StandardScaler, OneHotEncoder\n",
    "import numpy as np\n",
    "import pandas as pd"
   ]
  },
  {
   "cell_type": "code",
   "execution_count": 16,
   "id": "76634bd6",
   "metadata": {},
   "outputs": [],
   "source": [
    "df = pd.read_csv(\"model_paris_20_24.csv\", low_memory=False)"
   ]
  },
  {
   "cell_type": "code",
   "execution_count": 17,
   "id": "38017df5",
   "metadata": {},
   "outputs": [
    {
     "data": {
      "text/html": [
       "<div>\n",
       "<style scoped>\n",
       "    .dataframe tbody tr th:only-of-type {\n",
       "        vertical-align: middle;\n",
       "    }\n",
       "\n",
       "    .dataframe tbody tr th {\n",
       "        vertical-align: top;\n",
       "    }\n",
       "\n",
       "    .dataframe thead th {\n",
       "        text-align: right;\n",
       "    }\n",
       "</style>\n",
       "<table border=\"1\" class=\"dataframe\">\n",
       "  <thead>\n",
       "    <tr style=\"text-align: right;\">\n",
       "      <th></th>\n",
       "      <th>valeur_fonciere</th>\n",
       "      <th>surface_reelle_bati</th>\n",
       "      <th>nombre_pieces_principales</th>\n",
       "      <th>longitude</th>\n",
       "      <th>latitude</th>\n",
       "      <th>nombre_lots</th>\n",
       "      <th>nb_lots_surface</th>\n",
       "      <th>a_plusieurs_lots</th>\n",
       "      <th>prix_m2</th>\n",
       "      <th>annee</th>\n",
       "      <th>arrondissement</th>\n",
       "    </tr>\n",
       "  </thead>\n",
       "  <tbody>\n",
       "    <tr>\n",
       "      <th>0</th>\n",
       "      <td>908200.0</td>\n",
       "      <td>78.0</td>\n",
       "      <td>3.0</td>\n",
       "      <td>2.251124</td>\n",
       "      <td>48.843025</td>\n",
       "      <td>2</td>\n",
       "      <td>1</td>\n",
       "      <td>0</td>\n",
       "      <td>11643.589744</td>\n",
       "      <td>2020</td>\n",
       "      <td>16</td>\n",
       "    </tr>\n",
       "    <tr>\n",
       "      <th>1</th>\n",
       "      <td>600000.0</td>\n",
       "      <td>70.0</td>\n",
       "      <td>3.0</td>\n",
       "      <td>2.251902</td>\n",
       "      <td>48.838420</td>\n",
       "      <td>4</td>\n",
       "      <td>1</td>\n",
       "      <td>0</td>\n",
       "      <td>8571.428571</td>\n",
       "      <td>2020</td>\n",
       "      <td>16</td>\n",
       "    </tr>\n",
       "    <tr>\n",
       "      <th>2</th>\n",
       "      <td>775125.0</td>\n",
       "      <td>77.0</td>\n",
       "      <td>4.0</td>\n",
       "      <td>2.252431</td>\n",
       "      <td>48.837737</td>\n",
       "      <td>1</td>\n",
       "      <td>0</td>\n",
       "      <td>0</td>\n",
       "      <td>10066.558442</td>\n",
       "      <td>2020</td>\n",
       "      <td>16</td>\n",
       "    </tr>\n",
       "    <tr>\n",
       "      <th>3</th>\n",
       "      <td>550000.0</td>\n",
       "      <td>67.0</td>\n",
       "      <td>3.0</td>\n",
       "      <td>2.252871</td>\n",
       "      <td>48.837354</td>\n",
       "      <td>2</td>\n",
       "      <td>1</td>\n",
       "      <td>0</td>\n",
       "      <td>8208.955224</td>\n",
       "      <td>2020</td>\n",
       "      <td>16</td>\n",
       "    </tr>\n",
       "    <tr>\n",
       "      <th>4</th>\n",
       "      <td>690500.0</td>\n",
       "      <td>74.0</td>\n",
       "      <td>3.0</td>\n",
       "      <td>2.251366</td>\n",
       "      <td>48.839257</td>\n",
       "      <td>2</td>\n",
       "      <td>1</td>\n",
       "      <td>0</td>\n",
       "      <td>9331.081081</td>\n",
       "      <td>2020</td>\n",
       "      <td>16</td>\n",
       "    </tr>\n",
       "  </tbody>\n",
       "</table>\n",
       "</div>"
      ],
      "text/plain": [
       "   valeur_fonciere  surface_reelle_bati  nombre_pieces_principales  longitude  \\\n",
       "0         908200.0                 78.0                        3.0   2.251124   \n",
       "1         600000.0                 70.0                        3.0   2.251902   \n",
       "2         775125.0                 77.0                        4.0   2.252431   \n",
       "3         550000.0                 67.0                        3.0   2.252871   \n",
       "4         690500.0                 74.0                        3.0   2.251366   \n",
       "\n",
       "    latitude  nombre_lots  nb_lots_surface  a_plusieurs_lots       prix_m2  \\\n",
       "0  48.843025            2                1                 0  11643.589744   \n",
       "1  48.838420            4                1                 0   8571.428571   \n",
       "2  48.837737            1                0                 0  10066.558442   \n",
       "3  48.837354            2                1                 0   8208.955224   \n",
       "4  48.839257            2                1                 0   9331.081081   \n",
       "\n",
       "   annee  arrondissement  \n",
       "0   2020              16  \n",
       "1   2020              16  \n",
       "2   2020              16  \n",
       "3   2020              16  \n",
       "4   2020              16  "
      ]
     },
     "execution_count": 17,
     "metadata": {},
     "output_type": "execute_result"
    }
   ],
   "source": [
    "df.head()"
   ]
  },
  {
   "cell_type": "code",
   "execution_count": 24,
   "id": "8018eb03",
   "metadata": {},
   "outputs": [],
   "source": [
    "# Prepare data\n",
    "target = 'prix_m2'\n",
    "X = df.drop([target, 'valeur_fonciere','nb_lots_surface'], axis=1)  # Remove both target and valeur_fonciere\n",
    "y = df[target]\n"
   ]
  },
  {
   "cell_type": "code",
   "execution_count": 25,
   "id": "27c47acc",
   "metadata": {},
   "outputs": [
    {
     "name": "stdout",
     "output_type": "stream",
     "text": [
      "Numeric features: ['surface_reelle_bati', 'nombre_pieces_principales', 'longitude', 'latitude', 'nombre_lots']\n",
      "Categorical features: ['a_plusieurs_lots', 'annee', 'arrondissement']\n",
      "Dataset shape: X=(137917, 8), y=(137917,)\n"
     ]
    }
   ],
   "source": [
    "# Separate numeric and categorical features \n",
    "numeric_features = ['surface_reelle_bati', 'nombre_pieces_principales', 'longitude', 'latitude', 'nombre_lots']\n",
    "categorical_features = ['a_plusieurs_lots', 'annee', 'arrondissement']\n",
    "\n",
    "print(f\"Numeric features: {numeric_features}\")\n",
    "print(f\"Categorical features: {categorical_features}\")\n",
    "print(f\"Dataset shape: X={X.shape}, y={y.shape}\")"
   ]
  },
  {
   "cell_type": "code",
   "execution_count": 20,
   "id": "1121477a",
   "metadata": {},
   "outputs": [],
   "source": [
    "# Split data\n",
    "X_train, X_test, y_train, y_test = train_test_split(X, y, test_size=0.2, random_state=42)"
   ]
  },
  {
   "cell_type": "code",
   "execution_count": 21,
   "id": "1f40bf8a",
   "metadata": {},
   "outputs": [
    {
     "name": "stdout",
     "output_type": "stream",
     "text": [
      "Numeric features scaled: 6 features\n"
     ]
    }
   ],
   "source": [
    "# Scale numeric features\n",
    "scaler = StandardScaler()\n",
    "X_train_numeric = scaler.fit_transform(X_train[numeric_features])\n",
    "X_test_numeric = scaler.transform(X_test[numeric_features])\n",
    "\n",
    "print(f\"Numeric features scaled: {X_train_numeric.shape[1]} features\")"
   ]
  },
  {
   "cell_type": "code",
   "execution_count": 22,
   "id": "8be0efa9",
   "metadata": {},
   "outputs": [
    {
     "name": "stdout",
     "output_type": "stream",
     "text": [
      "Categorical features encoded: 24 features\n"
     ]
    }
   ],
   "source": [
    "# OneHot encode categorical features\n",
    "encoder = OneHotEncoder(drop='first')  # drop='first' to avoid multicollinearity\n",
    "X_train_categorical = encoder.fit_transform(X_train[categorical_features]).toarray()\n",
    "X_test_categorical = encoder.transform(X_test[categorical_features]).toarray()\n",
    "\n",
    "print(f\"Categorical features encoded: {X_train_categorical.shape[1]} features\")\n"
   ]
  },
  {
   "cell_type": "code",
   "execution_count": 26,
   "id": "c201560c",
   "metadata": {},
   "outputs": [
    {
     "name": "stdout",
     "output_type": "stream",
     "text": [
      "\n",
      "Final preprocessing summary:\n",
      "X_train_final shape: (110333, 30)\n",
      "X_test_final shape: (27584, 30)\n",
      "y_train shape: (110333,)\n",
      "y_test shape: (27584,)\n",
      "Total features: 30 (numeric: 5, categorical: 24)\n",
      "\n",
      "All feature names (29):\n",
      "  0: surface_reelle_bati\n",
      "  1: nombre_pieces_principales\n",
      "  2: longitude\n",
      "  3: latitude\n",
      "  4: nombre_lots\n",
      "  5: a_plusieurs_lots_1\n",
      "  6: annee_2021\n",
      "  7: annee_2022\n",
      "  8: annee_2023\n",
      "  9: annee_2024\n",
      "  10: arrondissement_2\n",
      "  11: arrondissement_3\n",
      "  12: arrondissement_4\n",
      "  13: arrondissement_5\n",
      "  14: arrondissement_6\n",
      "  15: arrondissement_7\n",
      "  16: arrondissement_8\n",
      "  17: arrondissement_9\n",
      "  18: arrondissement_10\n",
      "  19: arrondissement_11\n",
      "  20: arrondissement_12\n",
      "  21: arrondissement_13\n",
      "  22: arrondissement_14\n",
      "  23: arrondissement_15\n",
      "  24: arrondissement_16\n",
      "  25: arrondissement_17\n",
      "  26: arrondissement_18\n",
      "  27: arrondissement_19\n",
      "  28: arrondissement_20\n"
     ]
    }
   ],
   "source": [
    "# Combine numeric and categorical features\n",
    "X_train_final = np.hstack([X_train_numeric, X_train_categorical])\n",
    "X_test_final = np.hstack([X_test_numeric, X_test_categorical])\n",
    "\n",
    "print(f\"\\nFinal preprocessing summary:\")\n",
    "print(f\"X_train_final shape: {X_train_final.shape}\")\n",
    "print(f\"X_test_final shape: {X_test_final.shape}\")\n",
    "print(f\"y_train shape: {y_train.shape}\")\n",
    "print(f\"y_test shape: {y_test.shape}\")\n",
    "print(f\"Total features: {X_train_final.shape[1]} (numeric: {len(numeric_features)}, categorical: {X_train_categorical.shape[1]})\")\n",
    "\n",
    "# Feature names for reference\n",
    "categorical_feature_names = [f\"{cat}_{val}\" for cat, vals in zip(categorical_features, encoder.categories_) for val in vals[1:]]\n",
    "all_feature_names = numeric_features + categorical_feature_names\n",
    "\n",
    "print(f\"\\nAll feature names ({len(all_feature_names)}):\")\n",
    "for i, name in enumerate(all_feature_names):\n",
    "    print(f\"  {i}: {name}\")"
   ]
  }
 ],
 "metadata": {
  "kernelspec": {
   "display_name": "base",
   "language": "python",
   "name": "python3"
  },
  "language_info": {
   "codemirror_mode": {
    "name": "ipython",
    "version": 3
   },
   "file_extension": ".py",
   "mimetype": "text/x-python",
   "name": "python",
   "nbconvert_exporter": "python",
   "pygments_lexer": "ipython3",
   "version": "3.8.8"
  }
 },
 "nbformat": 4,
 "nbformat_minor": 5
}

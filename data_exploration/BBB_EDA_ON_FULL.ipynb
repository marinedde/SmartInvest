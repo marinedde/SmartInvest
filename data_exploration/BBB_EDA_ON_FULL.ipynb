{
 "cells": [
  {
   "cell_type": "code",
   "execution_count": null,
   "id": "6c5fe0b7",
   "metadata": {},
   "outputs": [],
   "source": [
    "import pandas as pd\n",
    "import numpy as np\n",
    "import plotly.express as px\n",
    "import plotly.graph_objects as go\n",
    "import plotly.io as pio"
   ]
  },
  {
   "cell_type": "markdown",
   "id": "3ad50cb2",
   "metadata": {},
   "source": [
    "# Running the exploration on the full DB used in our model"
   ]
  },
  {
   "cell_type": "code",
   "execution_count": null,
   "id": "63019473",
   "metadata": {},
   "outputs": [],
   "source": [
    "import pandas as pd\n",
    "\n",
    "# Read the original file\n",
    "df_paris = pd.read_csv(\"model_paris_20_24.csv\")"
   ]
  },
  {
   "cell_type": "code",
   "execution_count": null,
   "id": "e4da495b",
   "metadata": {},
   "outputs": [],
   "source": [
    "# Basic stats\n",
    "print(\"Number of rows : {}\".format(df_paris.shape[0]))\n",
    "print(\"Number of columns : {}\".format(df_paris.shape[1]))\n",
    "print()\n",
    "print(\"Percentage of missing values: \")\n",
    "display(100 * df_paris.isnull().sum() / df_paris.shape[0])\n",
    "print()"
   ]
  },
  {
   "cell_type": "code",
   "execution_count": null,
   "id": "f8feb43e",
   "metadata": {},
   "outputs": [],
   "source": [
    "df_paris.dtypes"
   ]
  },
  {
   "cell_type": "markdown",
   "id": "605c2d10",
   "metadata": {},
   "source": [
    "## Analyse surface"
   ]
  },
  {
   "cell_type": "code",
   "execution_count": null,
   "id": "60fae36b",
   "metadata": {},
   "outputs": [],
   "source": [
    "# Visualisation des outliers surface_reelle_bati avec Plotly\n",
    "\n",
    "# Box plot pour identifier visuellement les outliers\n",
    "fig = px.box(\n",
    "    df_paris, \n",
    "    y='surface_reelle_bati',\n",
    "    title=\"Distribution des surfaces plotbox\"\n",
    ")\n",
    "fig.update_layout(\n",
    "    yaxis_title=\"Surface réelle bâti (m²)\"\n",
    ")\n",
    "fig.show()"
   ]
  },
  {
   "cell_type": "code",
   "execution_count": null,
   "id": "5a9642e5",
   "metadata": {},
   "outputs": [],
   "source": [
    "# Histogramme \n",
    "fig = px.histogram(\n",
    "    df_paris, \n",
    "    x='surface_reelle_bati',\n",
    "    nbins=50,\n",
    "    title=\"Distribution des surfaces réelles bâties (histogramme)\"\n",
    ")\n",
    "fig.update_layout(\n",
    "    xaxis_title=\"Surface réelle bâti (m²)\",\n",
    "    yaxis_title=\"Nombre de transactions\"\n",
    ")\n",
    "fig.show()"
   ]
  },
  {
   "cell_type": "markdown",
   "id": "5c4b3dd1",
   "metadata": {},
   "source": [
    "## Analyse distribution prix_m2"
   ]
  },
  {
   "cell_type": "code",
   "execution_count": null,
   "id": "2f2fdc7f",
   "metadata": {},
   "outputs": [],
   "source": [
    "# Box plot pour identifier visuellement les outliers\n",
    "fig = px.box(\n",
    "    df_paris, \n",
    "    y='prix_m2',\n",
    "    title=\"Distribution des prix au m²\"\n",
    ")\n",
    "fig.update_layout(\n",
    "    yaxis_title=\"Prix au m² (€)\"\n",
    ")\n",
    "fig.show()\n",
    "\n",
    "# Histogramme pour voir la distribution\n",
    "fig = px.histogram(\n",
    "    df_paris, \n",
    "    x='prix_m2',\n",
    "    nbins=50,\n",
    "    title=\"Distribution des prix au m²\"\n",
    ")\n",
    "fig.update_layout(\n",
    "    xaxis_title=\"Prix au m² (€)\",\n",
    "    yaxis_title=\"Nombre de transactions\"\n",
    ")\n",
    "fig.show()"
   ]
  },
  {
   "cell_type": "markdown",
   "id": "33455958",
   "metadata": {},
   "source": [
    "## Analye nombre de pièces "
   ]
  },
  {
   "cell_type": "code",
   "execution_count": null,
   "id": "082c8077",
   "metadata": {},
   "outputs": [],
   "source": [
    "print(df_paris['nombre_pieces_principales'].describe())\n"
   ]
  },
  {
   "cell_type": "code",
   "execution_count": null,
   "id": "e635b0b0",
   "metadata": {},
   "outputs": [],
   "source": [
    "# 4. Box plot pour identifier les outliers\n",
    "fig = px.box(\n",
    "    df_paris,\n",
    "    y='nombre_pieces_principales',\n",
    "    title=\"Distribution nombre de pièces\"\n",
    ")\n",
    "fig.update_layout(\n",
    "    yaxis_title=\"Nombre de pièces principales\"\n",
    ")\n",
    "fig.show()"
   ]
  },
  {
   "cell_type": "markdown",
   "id": "f5e32720",
   "metadata": {},
   "source": [
    "## Analyse géographique"
   ]
  },
  {
   "cell_type": "code",
   "execution_count": null,
   "id": "723ba18b",
   "metadata": {},
   "outputs": [],
   "source": [
    "df_paris['arrondissement'].value_counts().sort_index()"
   ]
  },
  {
   "cell_type": "code",
   "execution_count": null,
   "id": "d5fab7ff",
   "metadata": {},
   "outputs": [],
   "source": [
    "# 2. Prix moyen par arrondissement\n",
    "prix_par_arrond = df_paris.groupby('arrondissement')['prix_m2'].agg(['mean', 'median', 'count']).round(0)\n",
    "prix_par_arrond.columns = ['Prix_moyen', 'Prix_median', 'Nb_transactions']\n",
    "prix_par_arrond = prix_par_arrond.sort_values('Prix_moyen', ascending=False)\n",
    "\n",
    "print(\"Prix par arrondissement (classé par prix moyen):\")\n",
    "print(prix_par_arrond)\n",
    "print()"
   ]
  },
  {
   "cell_type": "code",
   "execution_count": null,
   "id": "6b52be3c",
   "metadata": {},
   "outputs": [],
   "source": [
    "fig = px.bar(\n",
    "    x=prix_par_arrond.index,\n",
    "    y=prix_par_arrond['Prix_moyen'],\n",
    "    title=\"Prix moyen au m² par arrondissement\"\n",
    ")\n",
    "fig.update_layout(\n",
    "    xaxis_title=\"Arrondissement\",\n",
    "    yaxis_title=\"Prix moyen (€/m²)\"\n",
    ")\n",
    "fig.show()"
   ]
  },
  {
   "cell_type": "code",
   "execution_count": null,
   "id": "b2946099",
   "metadata": {},
   "outputs": [],
   "source": [
    "# 4. Scatter plot géographique avec prix\n",
    "fig = px.scatter(\n",
    "    df_paris,\n",
    "    x='longitude',\n",
    "    y='latitude',\n",
    "    color='prix_m2',\n",
    "    title=\"Répartition géographique des prix au m²\",\n",
    "    color_continuous_scale='Viridis'\n",
    ")\n",
    "fig.update_layout(\n",
    "    xaxis_title=\"Longitude\",\n",
    "    yaxis_title=\"Latitude\"\n",
    ")\n",
    "fig.show()"
   ]
  },
  {
   "cell_type": "markdown",
   "id": "834217cb",
   "metadata": {},
   "source": [
    "## Property impact analysis "
   ]
  },
  {
   "cell_type": "code",
   "execution_count": null,
   "id": "8a3b97b5",
   "metadata": {},
   "outputs": [],
   "source": [
    "prix_par_pieces = df_paris.groupby('nombre_pieces_principales')['prix_m2'].agg(['mean', 'median', 'count']).round(0)\n",
    "prix_par_pieces.columns = ['Prix_moyen', 'Prix_median', 'Nb_transactions']\n",
    "\n",
    "print(\"1. Prix par nombre de pièces:\")\n",
    "print(prix_par_pieces)\n",
    "print()\n",
    "\n",
    "fig = px.box(\n",
    "    df_paris,\n",
    "    x='nombre_pieces_principales',\n",
    "    y='prix_m2',\n",
    "    title=\"Distribution des prix au m² par nombre de pièces\"\n",
    ")\n",
    "fig.update_layout(\n",
    "    xaxis_title=\"Nombre de pièces principales\",\n",
    "    yaxis_title=\"Prix au m² (€)\"\n",
    ")\n",
    "fig.show()"
   ]
  },
  {
   "cell_type": "code",
   "execution_count": null,
   "id": "1c42bc1c",
   "metadata": {},
   "outputs": [],
   "source": [
    "# 3. Impact des lots multiples\n",
    "lots_impact = df_paris.groupby('nombre_lots')['prix_m2'].agg(['mean', 'median', 'count']).round(0)\n",
    "lots_impact.columns = ['Prix_moyen', 'Prix_median', 'Nb_transactions']\n",
    "\n",
    "print(\"2. Impact des lots multiples:\")\n",
    "print(lots_impact)\n",
    "print()\n",
    "\n",
    "fig = px.box(\n",
    "    df_paris,\n",
    "    x='nombre_lots',\n",
    "    y='prix_m2',\n",
    "    title=\"Impact des lots multiples sur le prix au m²\"\n",
    ")\n",
    "fig.update_layout(\n",
    "    xaxis_title=\"Nombre de lots\",\n",
    "    yaxis_title=\"Prix au m² (€)\"\n",
    ")\n",
    "fig.show()"
   ]
  },
  {
   "cell_type": "markdown",
   "id": "b78b25f2",
   "metadata": {},
   "source": [
    "## Correlation"
   ]
  },
  {
   "cell_type": "code",
   "execution_count": null,
   "id": "2befd847",
   "metadata": {},
   "outputs": [],
   "source": [
    "numeric_features = [\n",
    "    'prix_m2', 'surface_reelle_bati', \n",
    "    'nombre_pieces_principales', 'longitude', 'latitude', \n",
    "    'nombre_lots','arrondissement','annee'\n",
    "]\n",
    "\n",
    "# Calcul de la matrice de corrélation\n",
    "corr_matrix = df_paris[numeric_features].corr()"
   ]
  },
  {
   "cell_type": "code",
   "execution_count": null,
   "id": "5804d69d",
   "metadata": {},
   "outputs": [],
   "source": [
    "# Heatmap de corrélation complète\n",
    "fig = px.imshow(\n",
    "    corr_matrix,\n",
    "    text_auto=True,\n",
    "    aspect=\"auto\",\n",
    "    title=\"Matrice de corrélation - Toutes les features\"\n",
    ")\n",
    "fig.update_layout(\n",
    "    width=800,\n",
    "    height=600\n",
    ")\n",
    "fig.show()"
   ]
  },
  {
   "cell_type": "code",
   "execution_count": null,
   "id": "a2ef7a54",
   "metadata": {},
   "outputs": [],
   "source": [
    "#  Visualisation des corrélations avec prix_m2\n",
    "correlations_prix = corr_matrix['prix_m2'].sort_values(ascending=False)\n",
    "\n",
    "fig = px.bar(\n",
    "    x=correlations_prix.drop('prix_m2').values,\n",
    "    y=correlations_prix.drop('prix_m2').index,\n",
    "    orientation='h',\n",
    "    title=\"Corrélations avec prix_m2 (target variable)\"\n",
    ")\n",
    "fig.update_layout(\n",
    "    xaxis_title=\"Corrélation\",\n",
    "    yaxis_title=\"Features\"\n",
    ")\n",
    "fig.show()\n",
    "\n",
    "\n",
    "# FAIRE UNIQUEMENT AVEC LES DONNEES NUMERIQUES"
   ]
  }
 ],
 "metadata": {
  "kernelspec": {
   "display_name": "base",
   "language": "python",
   "name": "python3"
  },
  "language_info": {
   "codemirror_mode": {
    "name": "ipython",
    "version": 3
   },
   "file_extension": ".py",
   "mimetype": "text/x-python",
   "name": "python",
   "nbconvert_exporter": "python",
   "pygments_lexer": "ipython3",
   "version": "3.8.8"
  }
 },
 "nbformat": 4,
 "nbformat_minor": 5
}
